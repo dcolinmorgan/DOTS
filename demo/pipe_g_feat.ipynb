{
 "cells": [
  {
   "cell_type": "markdown",
   "metadata": {},
   "source": [
    "## test-google-news-index"
   ]
  },
  {
   "cell_type": "code",
   "execution_count": 1,
   "metadata": {},
   "outputs": [
    {
     "data": {
      "text/plain": [
       "'/Users/apple/WRK/dcolinmorgan/dots'"
      ]
     },
     "execution_count": 1,
     "metadata": {},
     "output_type": "execute_result"
    }
   ],
   "source": [
    "import os\n",
    "os.chdir('..')\n",
    "os.getcwd()"
   ]
  },
  {
   "cell_type": "code",
   "execution_count": 2,
   "metadata": {},
   "outputs": [],
   "source": [
    "from DOTS.scrape import get_OS_data, get_test_gnews\n",
    "from DOTS.pull import pull_data, process_url\n",
    "from DOTS.ingestion_utils import safe_iter_pull, iter_pull, reduce_newlines, scrape_selenium_headless"
   ]
  },
  {
   "cell_type": "code",
   "execution_count": 3,
   "metadata": {},
   "outputs": [],
   "source": [
    "import getpass\n",
    "import os\n",
    "\n",
    "# os.environ[\"OPENAI_API_KEY\"] = getpass.getpass(\"OpenAI API Key:\")\n",
    "\n",
    "from langchain_community.document_loaders import TextLoader\n",
    "from langchain_community.vectorstores import OpenSearchVectorSearch\n",
    "from langchain_openai import OpenAIEmbeddings\n",
    "from langchain_text_splitters import CharacterTextSplitter"
   ]
  },
  {
   "cell_type": "code",
   "execution_count": 4,
   "metadata": {},
   "outputs": [],
   "source": [
    "from dotenv import load_dotenv\n",
    "import subprocess, json, argparse, os,requests\n",
    "load_dotenv()\n",
    "os_url = os.getenv('OS_TOKEN')\n",
    "openai_KEY = os.getenv('OPENAI_API_KEY')\n",
    "\n",
    "lobstr_key = os.getenv('LOBSTR_KEY')"
   ]
  },
  {
   "cell_type": "code",
   "execution_count": 5,
   "metadata": {},
   "outputs": [
    {
     "name": "stderr",
     "output_type": "stream",
     "text": [
      "grabbing text from url:  43%|████▎     | 353/821 [00:41<00:51,  9.13it/s]/Users/apple/WRK/dcolinmorgan/dots/DOTS/pull.py:132: MarkupResemblesLocatorWarning: The input looks more like a filename than markup. You may want to open this file and pass the filehandle into Beautiful Soup.\n",
      "  soup = BeautifulSoup(response.text, 'html.parser')\n",
      "grabbing text from url: 100%|██████████| 821/821 [01:23<00:00,  9.80it/s]"
     ]
    },
    {
     "name": "stdout",
     "output_type": "stream",
     "text": [
      "194\n"
     ]
    },
    {
     "name": "stderr",
     "output_type": "stream",
     "text": [
      "\n"
     ]
    }
   ],
   "source": [
    "response = get_test_gnews(1000)\n",
    "hits = response[\"hits\"][\"hits\"]\n",
    "articles = pull_data(hits)\n",
    "indices = [i for i, x in enumerate(articles) if len(str(x)) < 50]\n",
    "print(len(indices))\n",
    "# for i in indices:\n",
    "#     url = hits[i]['_source']['metadata']['link']\n",
    "#     # print(url)\n",
    "#     try:\n",
    "#         articles[i] = scrape_selenium_headless(url,browser='undetected_chrome')\n",
    "#     except:\n",
    "#         pass\n",
    "# indices2 = [i for i, x in enumerate(articles) if len(str(x)) <50]\n",
    "# print(len(indices2))"
   ]
  },
  {
   "cell_type": "code",
   "execution_count": 6,
   "metadata": {},
   "outputs": [
    {
     "name": "stdout",
     "output_type": "stream",
     "text": [
      "194\n"
     ]
    }
   ],
   "source": [
    "indices2 = [i for i, x in enumerate(articles) if len(str(x)) <50]\n",
    "print(len(indices2))\n",
    "articles_not_in_indices2 = [article for i, article in enumerate(articles) if i not in indices2]"
   ]
  },
  {
   "cell_type": "markdown",
   "metadata": {},
   "source": [
    "## g.feat"
   ]
  },
  {
   "cell_type": "code",
   "execution_count": 7,
   "metadata": {},
   "outputs": [],
   "source": [
    "import pandas as pd\n",
    "import os\n",
    "os.getcwd()\n",
    "import graphistry\n",
    "\n",
    "from dotenv import load_dotenv\n",
    "import subprocess, json, argparse, os,requests\n",
    "load_dotenv()\n",
    "g_pass = os.getenv('g_pass')\n",
    "g_user = os.getenv('g_user')\n",
    "\n",
    "graphistry.register(api=3,protocol=\"https\", server=\"hub.graphistry.com\", username=g_user, password=g_pass) ## key id, secret key\n",
    "from graphistry.features import search_model, topic_model, ngrams_model, ModelDict, default_featurize_parameters, default_umap_parameters"
   ]
  },
  {
   "cell_type": "code",
   "execution_count": 8,
   "metadata": {},
   "outputs": [],
   "source": [
    "indices2 = [i for i, x in enumerate(articles) if len(str(x)) <50]\n",
    "(len(indices2))\n",
    "articles_not_in_indices2 = [article for i, article in enumerate(articles) if i not in indices2]\n",
    "\n",
    "df=pd.Series(articles_not_in_indices2).to_frame()\n",
    "object_columns = df.select_dtypes(include=['object']).columns\n",
    "df[object_columns] = df[object_columns].astype(str)\n",
    "df.columns=['text']\n",
    "df['text'] = df['text'].str.replace(\"', '\", ' ')\n",
    "df['text'] = df['text'].str.replace('\", \"', ' ')\n",
    "df['text'] = df['text'].str.replace('\" \"', ' ')\n",
    "df['text'] = df['text'].str.replace(\"' '\", ' ')\n",
    "df['text'] = df['text'].str.replace(\"\\'\", ' ')\n",
    "df['text'] = df['text'].str.replace(\"]\", ' ')\n",
    "df['text'] = df['text'].str.replace(\"[\", ' ')\n",
    "object_columns = df.select_dtypes(include=['object']).columns\n",
    "df[object_columns] = df[object_columns].astype(str)"
   ]
  },
  {
   "cell_type": "code",
   "execution_count": 9,
   "metadata": {},
   "outputs": [
    {
     "data": {
      "text/html": [
       "<div>\n",
       "<style scoped>\n",
       "    .dataframe tbody tr th:only-of-type {\n",
       "        vertical-align: middle;\n",
       "    }\n",
       "\n",
       "    .dataframe tbody tr th {\n",
       "        vertical-align: top;\n",
       "    }\n",
       "\n",
       "    .dataframe thead th {\n",
       "        text-align: right;\n",
       "    }\n",
       "</style>\n",
       "<table border=\"1\" class=\"dataframe\">\n",
       "  <thead>\n",
       "    <tr style=\"text-align: right;\">\n",
       "      <th></th>\n",
       "      <th>text</th>\n",
       "    </tr>\n",
       "  </thead>\n",
       "  <tbody>\n",
       "    <tr>\n",
       "      <th>0</th>\n",
       "      <td>\"TEHRAN, Apr. 02 (MNA) –  Russia s Federal Se...</td>\n",
       "    </tr>\n",
       "    <tr>\n",
       "      <th>1</th>\n",
       "      <td>The Nigerian Army has confirmed a minor expl...</td>\n",
       "    </tr>\n",
       "    <tr>\n",
       "      <th>2</th>\n",
       "      <td>Raipur, Apr 2 (PTI) In a major anti-insurge...</td>\n",
       "    </tr>\n",
       "    <tr>\n",
       "      <th>3</th>\n",
       "      <td>Notifications can be managed in browser pref...</td>\n",
       "    </tr>\n",
       "    <tr>\n",
       "      <th>4</th>\n",
       "      <td>The police arrested a 19-year-old Rotterdam ...</td>\n",
       "    </tr>\n",
       "    <tr>\n",
       "      <th>...</th>\n",
       "      <td>...</td>\n",
       "    </tr>\n",
       "    <tr>\n",
       "      <th>622</th>\n",
       "      <td>Cloudy this evening with showers after midni...</td>\n",
       "    </tr>\n",
       "    <tr>\n",
       "      <th>623</th>\n",
       "      <td>The latest breaking updates, delivered strai...</td>\n",
       "    </tr>\n",
       "    <tr>\n",
       "      <th>624</th>\n",
       "      <td>WEATHER ALERT Christian Terry, Digital Conte...</td>\n",
       "    </tr>\n",
       "    <tr>\n",
       "      <th>625</th>\n",
       "      <td>LINCOLN, Neb. (KOLN) - A man was cited after...</td>\n",
       "    </tr>\n",
       "    <tr>\n",
       "      <th>626</th>\n",
       "      <td>Copyright 2024 The Associated Press. All Rig...</td>\n",
       "    </tr>\n",
       "  </tbody>\n",
       "</table>\n",
       "<p>627 rows × 1 columns</p>\n",
       "</div>"
      ],
      "text/plain": [
       "                                                  text\n",
       "0     \"TEHRAN, Apr. 02 (MNA) –  Russia s Federal Se...\n",
       "1      The Nigerian Army has confirmed a minor expl...\n",
       "2       Raipur, Apr 2 (PTI) In a major anti-insurge...\n",
       "3      Notifications can be managed in browser pref...\n",
       "4      The police arrested a 19-year-old Rotterdam ...\n",
       "..                                                 ...\n",
       "622    Cloudy this evening with showers after midni...\n",
       "623    The latest breaking updates, delivered strai...\n",
       "624    WEATHER ALERT Christian Terry, Digital Conte...\n",
       "625    LINCOLN, Neb. (KOLN) - A man was cited after...\n",
       "626    Copyright 2024 The Associated Press. All Rig...\n",
       "\n",
       "[627 rows x 1 columns]"
      ]
     },
     "execution_count": 9,
     "metadata": {},
     "output_type": "execute_result"
    }
   ],
   "source": [
    "df"
   ]
  },
  {
   "cell_type": "code",
   "execution_count": 10,
   "metadata": {},
   "outputs": [
    {
     "name": "stderr",
     "output_type": "stream",
     "text": [
      "* Ignoring target column of shape (627, 0) in UMAP fit, as it is not one dimensional"
     ]
    },
    {
     "data": {
      "text/plain": [
       "Index(['text: vatandaşlarımızın, nightclub, gündoğdu',\n",
       "       'text: ljlo9b5ncj, h9zep9aikz, louisville',\n",
       "       'text: northeasterly, thursday, snowfall'],\n",
       "      dtype='object')"
      ]
     },
     "execution_count": 10,
     "metadata": {},
     "output_type": "execute_result"
    }
   ],
   "source": [
    "%%time\n",
    "g=graphistry.nodes(df)\n",
    "g2 = g.umap(df,**topic_model)\n",
    "g2 = g2.dbscan() #min_dist=1, min_samples=3)\n",
    "g3 = g2.transform_dbscan(df,return_graph=False)\n",
    "df2=pd.DataFrame(g2.get_matrix())\n",
    "\n",
    "max_index_per_row = df2.idxmax(axis=1)\n",
    "top_3_indices = max_index_per_row.value_counts().index[:3]\n",
    "top_3_indices"
   ]
  },
  {
   "cell_type": "code",
   "execution_count": 23,
   "metadata": {},
   "outputs": [
    {
     "data": {
      "text/html": [
       "\n",
       "            <iframe id=\"c27a9279-e639-4bd7-82f0-3fc2bd273e0f\" src=\"https://hub.graphistry.com/graph/graph.html?dataset=86cf0fc5fac94f28bc53d5741b4f35c7&type=arrow&viztoken=cae80eee-8b65-4574-9fbe-a75f9847077d&usertag=7f4412f3-pygraphistry-0.33.7&splashAfter=1712821355&info=true&play=0\"\n",
       "                    allowfullscreen=\"true\" webkitallowfullscreen=\"true\" mozallowfullscreen=\"true\"\n",
       "                    oallowfullscreen=\"true\" msallowfullscreen=\"true\"\n",
       "                    style=\"width:100%; height:500px; border: 1px solid #DDD; overflow: hidden\"\n",
       "                    \n",
       "            >\n",
       "            </iframe>\n",
       "        \n",
       "            <script>\n",
       "                try {\n",
       "                  $(\"#c27a9279-e639-4bd7-82f0-3fc2bd273e0f\").bind('mousewheel', function(e) { e.preventDefault(); });\n",
       "                } catch (e) { console.error('exn catching scroll', e); }\n",
       "            </script>\n",
       "        "
      ],
      "text/plain": [
       "<IPython.core.display.HTML object>"
      ]
     },
     "execution_count": 23,
     "metadata": {},
     "output_type": "execute_result"
    }
   ],
   "source": [
    "g2.plot()"
   ]
  },
  {
   "cell_type": "markdown",
   "metadata": {},
   "source": [
    "## featurize"
   ]
  },
  {
   "cell_type": "code",
   "execution_count": 15,
   "metadata": {},
   "outputs": [],
   "source": [
    "from DOTS.feat import featurize_stories\n",
    "import graphistry\n",
    "import umap"
   ]
  },
  {
   "cell_type": "code",
   "execution_count": 16,
   "metadata": {},
   "outputs": [
    {
     "data": {
      "text/plain": [
       "['tuesday morning', 'morning', 'deterioration']"
      ]
     },
     "execution_count": 16,
     "metadata": {},
     "output_type": "execute_result"
    }
   ],
   "source": [
    "featurize_stories(str(articles[711]), top_k = 3, max_len=512)"
   ]
  },
  {
   "cell_type": "code",
   "execution_count": 17,
   "metadata": {},
   "outputs": [
    {
     "name": "stderr",
     "output_type": "stream",
     "text": [
      "100%|██████████| 627/627 [14:54<00:00,  1.43s/it]\n"
     ]
    }
   ],
   "source": [
    "rank_articles=[]\n",
    "from tqdm import tqdm\n",
    "indices3 = [i for i in range(len(articles)) if i not in indices2]\n",
    "\n",
    "for i in tqdm(indices3):\n",
    "    try:\n",
    "        cc = featurize_stories(str(articles[i]), top_k = 3, max_len=512)\n",
    "        rank_articles.append([cc])\n",
    "    except:\n",
    "        pass"
   ]
  },
  {
   "cell_type": "code",
   "execution_count": null,
   "metadata": {},
   "outputs": [],
   "source": [
    "os.getcwd()"
   ]
  },
  {
   "cell_type": "code",
   "execution_count": 18,
   "metadata": {},
   "outputs": [],
   "source": [
    "flattened_list = [item for sublist in rank_articles for item in sublist]"
   ]
  },
  {
   "cell_type": "code",
   "execution_count": null,
   "metadata": {},
   "outputs": [],
   "source": [
    "import pandas as pd\n",
    "import os\n",
    "os.getcwd()\n",
    "import graphistry\n",
    "\n",
    "from dotenv import load_dotenv\n",
    "import subprocess, json, argparse, os,requests\n",
    "load_dotenv()\n",
    "g_pass = os.getenv('g_pass')\n",
    "g_user = os.getenv('g_user')\n",
    "\n",
    "graphistry.register(api=3,protocol=\"https\", server=\"hub.graphistry.com\", username=g_user, password=g_pass) ## key id, secret key"
   ]
  },
  {
   "cell_type": "code",
   "execution_count": null,
   "metadata": {},
   "outputs": [],
   "source": [
    "# pd.DataFrame(flattened_list).to_csv('big_test.txt')\n",
    "# data=pd.read_csv('../../../big_test.txt',index_col=0)"
   ]
  },
  {
   "cell_type": "code",
   "execution_count": 20,
   "metadata": {},
   "outputs": [
    {
     "data": {
      "text/plain": [
       "Index(['2: weather, severe, swathes', '2: thunderstorms, storms, storm',\n",
       "       '1: firefighters, firefighter, daughters'],\n",
       "      dtype='object')"
      ]
     },
     "execution_count": 20,
     "metadata": {},
     "output_type": "execute_result"
    }
   ],
   "source": [
    "# import pandas as pd\n",
    "data=pd.DataFrame(flattened_list)  # each ranked feature is a row\n",
    "data=data.dropna(how='any')\n",
    "data=data.drop_duplicates()\n",
    "\n",
    "object_columns = data.select_dtypes(include=['object']).columns\n",
    "data[object_columns] = data[object_columns].astype(str)\n",
    "\n",
    "# g = graphistry.edges(data).materialize_nodes()\n",
    "g = graphistry.nodes(data)\n",
    "# g2 = g.featurize()\n",
    "# g2._clustersummary()\n",
    "\n",
    "g22 = g.umap()\n",
    "g22=g22.dbscan()#min_dist=0.1, min_samples=3) #82 groups\n",
    "g33 = g22.transform_dbscan(data,return_graph=False)\n",
    "df22=pd.DataFrame(g22.get_matrix())\n",
    "\n",
    "max_index_per_row = df22.idxmax(axis=1)\n",
    "top_33_indices = max_index_per_row.value_counts().index[:3]\n",
    "top_33_indices"
   ]
  },
  {
   "cell_type": "code",
   "execution_count": 24,
   "metadata": {},
   "outputs": [
    {
     "data": {
      "text/html": [
       "\n",
       "            <iframe id=\"6b733787-f094-46f3-93f2-bb8da6b74576\" src=\"https://hub.graphistry.com/graph/graph.html?dataset=313ed82479c9438b840f1e7360cf8238&type=arrow&viztoken=b87875c6-c94f-4e13-b699-f047b2d9fde0&usertag=7f4412f3-pygraphistry-0.33.7&splashAfter=1712821403&info=true&play=0\"\n",
       "                    allowfullscreen=\"true\" webkitallowfullscreen=\"true\" mozallowfullscreen=\"true\"\n",
       "                    oallowfullscreen=\"true\" msallowfullscreen=\"true\"\n",
       "                    style=\"width:100%; height:500px; border: 1px solid #DDD; overflow: hidden\"\n",
       "                    \n",
       "            >\n",
       "            </iframe>\n",
       "        \n",
       "            <script>\n",
       "                try {\n",
       "                  $(\"#6b733787-f094-46f3-93f2-bb8da6b74576\").bind('mousewheel', function(e) { e.preventDefault(); });\n",
       "                } catch (e) { console.error('exn catching scroll', e); }\n",
       "            </script>\n",
       "        "
      ],
      "text/plain": [
       "<IPython.core.display.HTML object>"
      ]
     },
     "execution_count": 24,
     "metadata": {},
     "output_type": "execute_result"
    }
   ],
   "source": [
    "g22.plot() # .encode_point_color('_dbscan',palette=[\"hotpink\", \"dodgerblue\"],as_continuous=True).plot()"
   ]
  },
  {
   "cell_type": "code",
   "execution_count": null,
   "metadata": {},
   "outputs": [],
   "source": []
  }
 ],
 "metadata": {
  "kernelspec": {
   "display_name": "mypy3",
   "language": "python",
   "name": "python3"
  },
  "language_info": {
   "codemirror_mode": {
    "name": "ipython",
    "version": 3
   },
   "file_extension": ".py",
   "mimetype": "text/x-python",
   "name": "python",
   "nbconvert_exporter": "python",
   "pygments_lexer": "ipython3",
   "version": "3.12.2"
  }
 },
 "nbformat": 4,
 "nbformat_minor": 2
}
