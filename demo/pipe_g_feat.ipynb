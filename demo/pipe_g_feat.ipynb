{
 "cells": [
  {
   "cell_type": "markdown",
   "metadata": {},
   "source": [
    "## test-google-news-index"
   ]
  },
  {
   "cell_type": "code",
   "execution_count": 1,
   "metadata": {},
   "outputs": [
    {
     "data": {
      "text/plain": [
       "'/Users/apple/WRK/dcolinmorgan/dots'"
      ]
     },
     "execution_count": 1,
     "metadata": {},
     "output_type": "execute_result"
    }
   ],
   "source": [
    "import os\n",
    "os.chdir('..')\n",
    "os.getcwd()"
   ]
  },
  {
   "cell_type": "code",
   "execution_count": 2,
   "metadata": {},
   "outputs": [],
   "source": [
    "from DOTS.scrape import get_OS_data, get_test_gnews\n",
    "from DOTS.pull import pull_data, process_url\n",
    "from DOTS.ingestion_utils import safe_iter_pull, iter_pull, reduce_newlines, scrape_selenium_headless"
   ]
  },
  {
   "cell_type": "code",
   "execution_count": 4,
   "metadata": {},
   "outputs": [],
   "source": [
    "from dotenv import load_dotenv\n",
    "import subprocess, json, argparse, os,requests\n",
    "load_dotenv()\n",
    "os_url = os.getenv('OS_TOKEN')\n",
    "openai_KEY = os.getenv('OPENAI_API_KEY')\n",
    "\n",
    "lobstr_key = os.getenv('LOBSTR_KEY')"
   ]
  },
  {
   "cell_type": "code",
   "execution_count": 5,
   "metadata": {},
   "outputs": [
    {
     "name": "stderr",
     "output_type": "stream",
     "text": [
      "grabbing text from url: 100%|██████████| 821/821 [02:29<00:00,  5.49it/s]"
     ]
    },
    {
     "name": "stdout",
     "output_type": "stream",
     "text": [
      "199\n"
     ]
    },
    {
     "name": "stderr",
     "output_type": "stream",
     "text": [
      "\n"
     ]
    }
   ],
   "source": [
    "response = get_test_gnews(1000)\n",
    "hits = response[\"hits\"][\"hits\"]\n",
    "articles = pull_data(hits)\n",
    "indices = [i for i, x in enumerate(articles) if len(str(x)) < 50]\n",
    "print(len(indices))\n",
    "# for i in indices:\n",
    "#     url = hits[i]['_source']['metadata']['link']\n",
    "#     # print(url)\n",
    "#     try:\n",
    "#         articles[i] = scrape_selenium_headless(url,browser='undetected_chrome')\n",
    "#     except:\n",
    "#         pass\n",
    "# indices2 = [i for i, x in enumerate(articles) if len(str(x)) <50]\n",
    "# print(len(indices2))"
   ]
  },
  {
   "cell_type": "code",
   "execution_count": 6,
   "metadata": {},
   "outputs": [
    {
     "name": "stdout",
     "output_type": "stream",
     "text": [
      "199\n"
     ]
    }
   ],
   "source": [
    "indices2 = [i for i, x in enumerate(articles) if len(str(x)) <50]\n",
    "print(len(indices2))\n",
    "articles_not_in_indices2 = [article for i, article in enumerate(articles) if i not in indices2]"
   ]
  },
  {
   "cell_type": "markdown",
   "metadata": {},
   "source": [
    "## GLiNER featurize"
   ]
  },
  {
   "cell_type": "code",
   "execution_count": 220,
   "metadata": {},
   "outputs": [
    {
     "ename": "ImportError",
     "evalue": "cannot import name 'gliner_feat' from 'DOTS.feat' (/Users/apple/WRK/dcolinmorgan/dots/DOTS/feat.py)",
     "output_type": "error",
     "traceback": [
      "\u001b[0;31m---------------------------------------------------------------------------\u001b[0m",
      "\u001b[0;31mImportError\u001b[0m                               Traceback (most recent call last)",
      "Cell \u001b[0;32mIn[220], line 1\u001b[0m\n\u001b[0;32m----> 1\u001b[0m \u001b[38;5;28;01mfrom\u001b[39;00m \u001b[38;5;21;01mDOTS\u001b[39;00m\u001b[38;5;21;01m.\u001b[39;00m\u001b[38;5;21;01mfeat\u001b[39;00m \u001b[38;5;28;01mimport\u001b[39;00m gliner_feat\n",
      "\u001b[0;31mImportError\u001b[0m: cannot import name 'gliner_feat' from 'DOTS.feat' (/Users/apple/WRK/dcolinmorgan/dots/DOTS/feat.py)"
     ]
    }
   ],
   "source": [
    "from DOTS.feat import gliner_feat"
   ]
  },
  {
   "cell_type": "code",
   "execution_count": 148,
   "metadata": {},
   "outputs": [
    {
     "name": "stdout",
     "output_type": "stream",
     "text": [
      "199\n"
     ]
    }
   ],
   "source": [
    "from gliner import GLiNER\n",
    "model = GLiNER.from_pretrained(\"urchade/gliner_base\")\n",
    "\n",
    "indices2 = [i for i, x in enumerate(articles) if len(str(x)) <50]\n",
    "print(len(indices2))\n",
    "text = [article for i, article in enumerate(articles) if i not in indices2]\n",
    "hh = [hit for i, hit in enumerate(hits) if i not in indices2]"
   ]
  },
  {
   "cell_type": "code",
   "execution_count": 181,
   "metadata": {},
   "outputs": [
    {
     "data": {
      "text/plain": [
       "[622, 622]"
      ]
     },
     "execution_count": 181,
     "metadata": {},
     "output_type": "execute_result"
    }
   ],
   "source": [
    "[len(hh),len(text)]"
   ]
  },
  {
   "cell_type": "code",
   "execution_count": 186,
   "metadata": {},
   "outputs": [
    {
     "name": "stdout",
     "output_type": "stream",
     "text": [
      "252\n"
     ]
    }
   ],
   "source": [
    "%%time\n",
    "import pandas as pd\n",
    "# labels https://github.com/graphistry/graphistrygpt/blob/4b761af233c52109fb6bca2aec4e54d8c0ffa4ad/graphistrygpt/plugins/dt/models.py#L108\n",
    "# labels=['disaster', 'flood', 'weather', 'hurricane', 'fire', 'date', 'location']#, 'politician', 'corporation', 'government_agency', 'military']\n",
    "labels=[ \"avalanche\",\n",
    "        \"biological\",\"blizzard\",\n",
    "        \"chemical\",\"contamination\",\"cyber\",\n",
    "        \"drought\",\n",
    "        \"earthquake\",\"explosion\",\n",
    "        \"fire\",\"flood\",\n",
    "        \"heat\",\"hurricane\",\n",
    "        \"infrastructure\",\n",
    "        \"landslide\",\n",
    "        \"nuclear\",\n",
    "        \"pandemic\",\"power\",\n",
    "        \"radiological\",\"riot\",\n",
    "        \"sabotage\",\n",
    "        \"terror\",\"tornado\",\"transport\",\"tsunami\",\n",
    "        \"volcano\"]\n",
    "df = pd.DataFrame(columns=['Title','URL', 'Text', 'Label', 'Date','Location'])\n",
    "\n",
    "for hit,article in zip(hh[:100],text[:100]):\n",
    "    entities = model.predict_entities(''.join(article), labels)\n",
    "    for entity in entities:\n",
    "        row = pd.DataFrame({'Title': [hit['_source']['metadata']['title']],\n",
    "                            'URL': [hit['_source']['metadata']['link']], \n",
    "                            'Text': [entity[\"text\"]], \n",
    "                            'Label': [entity[\"label\"]]})\n",
    "        df = pd.concat([df, row], ignore_index=True)\n",
    "print(len(df))"
   ]
  },
  {
   "cell_type": "code",
   "execution_count": 187,
   "metadata": {},
   "outputs": [],
   "source": [
    "df2 = df.groupby(['Title','URL','Label']).agg({'Text': ' '.join}).reset_index()"
   ]
  },
  {
   "cell_type": "code",
   "execution_count": 196,
   "metadata": {},
   "outputs": [
    {
     "data": {
      "text/plain": [
       "Index(['biological', 'cyber', 'earthquake', 'explosion', 'fire', 'flood',\n",
       "       'heat', 'infrastructure', 'landslide', 'power', 'riot', 'terror',\n",
       "       'tornado', 'transport'],\n",
       "      dtype='object', name='Label')"
      ]
     },
     "execution_count": 196,
     "metadata": {},
     "output_type": "execute_result"
    }
   ],
   "source": [
    "df_pivot.columns[2:]"
   ]
  },
  {
   "cell_type": "code",
   "execution_count": 197,
   "metadata": {},
   "outputs": [
    {
     "data": {
      "text/html": [
       "<div>\n",
       "<style scoped>\n",
       "    .dataframe tbody tr th:only-of-type {\n",
       "        vertical-align: middle;\n",
       "    }\n",
       "\n",
       "    .dataframe tbody tr th {\n",
       "        vertical-align: top;\n",
       "    }\n",
       "\n",
       "    .dataframe thead th {\n",
       "        text-align: right;\n",
       "    }\n",
       "</style>\n",
       "<table border=\"1\" class=\"dataframe\">\n",
       "  <thead>\n",
       "    <tr style=\"text-align: right;\">\n",
       "      <th>Label</th>\n",
       "      <th>Title</th>\n",
       "      <th>URL</th>\n",
       "      <th>biological</th>\n",
       "      <th>cyber</th>\n",
       "      <th>earthquake</th>\n",
       "      <th>explosion</th>\n",
       "      <th>fire</th>\n",
       "      <th>flood</th>\n",
       "      <th>heat</th>\n",
       "      <th>infrastructure</th>\n",
       "      <th>landslide</th>\n",
       "      <th>power</th>\n",
       "      <th>riot</th>\n",
       "      <th>terror</th>\n",
       "      <th>tornado</th>\n",
       "      <th>transport</th>\n",
       "    </tr>\n",
       "  </thead>\n",
       "  <tbody>\n",
       "    <tr>\n",
       "      <th>0</th>\n",
       "      <td>1 dead, 2 children wounded after 13 y/o goes o...</td>\n",
       "      <td>https://news.google.com/rss/articles/CBMiX2h0d...</td>\n",
       "      <td>NaN</td>\n",
       "      <td>NaN</td>\n",
       "      <td>NaN</td>\n",
       "      <td>NaN</td>\n",
       "      <td>NaN</td>\n",
       "      <td>NaN</td>\n",
       "      <td>NaN</td>\n",
       "      <td>NaN</td>\n",
       "      <td>NaN</td>\n",
       "      <td>NaN</td>\n",
       "      <td>NaN</td>\n",
       "      <td>mass shooting mass shooting</td>\n",
       "      <td>NaN</td>\n",
       "      <td>ambulances</td>\n",
       "    </tr>\n",
       "    <tr>\n",
       "      <th>1</th>\n",
       "      <td>1 dead, 2 injured in fire at northwest Indiana...</td>\n",
       "      <td>https://news.google.com/rss/articles/CBMiogFod...</td>\n",
       "      <td>NaN</td>\n",
       "      <td>browser</td>\n",
       "      <td>NaN</td>\n",
       "      <td>NaN</td>\n",
       "      <td>fire</td>\n",
       "      <td>NaN</td>\n",
       "      <td>NaN</td>\n",
       "      <td>Mount Zion Suburban Apartments</td>\n",
       "      <td>NaN</td>\n",
       "      <td>NaN</td>\n",
       "      <td>NaN</td>\n",
       "      <td>NaN</td>\n",
       "      <td>NaN</td>\n",
       "      <td>NaN</td>\n",
       "    </tr>\n",
       "    <tr>\n",
       "      <th>2</th>\n",
       "      <td>10th suspect held in Moscow terror attack - Th...</td>\n",
       "      <td>https://news.google.com/rss/articles/CBMieWh0d...</td>\n",
       "      <td>NaN</td>\n",
       "      <td>NaN</td>\n",
       "      <td>NaN</td>\n",
       "      <td>NaN</td>\n",
       "      <td>NaN</td>\n",
       "      <td>NaN</td>\n",
       "      <td>NaN</td>\n",
       "      <td>NaN</td>\n",
       "      <td>NaN</td>\n",
       "      <td>NaN</td>\n",
       "      <td>massacre</td>\n",
       "      <td>NaN</td>\n",
       "      <td>NaN</td>\n",
       "      <td>NaN</td>\n",
       "    </tr>\n",
       "    <tr>\n",
       "      <th>3</th>\n",
       "      <td>2 people rescued from Humber River following l...</td>\n",
       "      <td>https://news.google.com/rss/articles/CBMibmh0d...</td>\n",
       "      <td>NaN</td>\n",
       "      <td>NaN</td>\n",
       "      <td>NaN</td>\n",
       "      <td>NaN</td>\n",
       "      <td>NaN</td>\n",
       "      <td>NaN</td>\n",
       "      <td>NaN</td>\n",
       "      <td>Humber River culverts</td>\n",
       "      <td>landslide landslide landslide</td>\n",
       "      <td>NaN</td>\n",
       "      <td>NaN</td>\n",
       "      <td>NaN</td>\n",
       "      <td>NaN</td>\n",
       "      <td>truck car</td>\n",
       "    </tr>\n",
       "    <tr>\n",
       "      <th>4</th>\n",
       "      <td>22 terrorists arrested during 232 IBOs conduct...</td>\n",
       "      <td>https://news.google.com/rss/articles/CBMiYWh0d...</td>\n",
       "      <td>NaN</td>\n",
       "      <td>NaN</td>\n",
       "      <td>NaN</td>\n",
       "      <td>NaN</td>\n",
       "      <td>NaN</td>\n",
       "      <td>NaN</td>\n",
       "      <td>NaN</td>\n",
       "      <td>NaN</td>\n",
       "      <td>NaN</td>\n",
       "      <td>NaN</td>\n",
       "      <td>NaN</td>\n",
       "      <td>Al-Qaeda</td>\n",
       "      <td>NaN</td>\n",
       "      <td>NaN</td>\n",
       "    </tr>\n",
       "    <tr>\n",
       "      <th>...</th>\n",
       "      <td>...</td>\n",
       "      <td>...</td>\n",
       "      <td>...</td>\n",
       "      <td>...</td>\n",
       "      <td>...</td>\n",
       "      <td>...</td>\n",
       "      <td>...</td>\n",
       "      <td>...</td>\n",
       "      <td>...</td>\n",
       "      <td>...</td>\n",
       "      <td>...</td>\n",
       "      <td>...</td>\n",
       "      <td>...</td>\n",
       "      <td>...</td>\n",
       "      <td>...</td>\n",
       "      <td>...</td>\n",
       "    </tr>\n",
       "    <tr>\n",
       "      <th>64</th>\n",
       "      <td>Unexploded WW2 bomb detonated on Jersey's east...</td>\n",
       "      <td>https://news.google.com/rss/articles/CBMiOmh0d...</td>\n",
       "      <td>NaN</td>\n",
       "      <td>NaN</td>\n",
       "      <td>NaN</td>\n",
       "      <td>controlled explosion Guatemala landfill fire</td>\n",
       "      <td>Russian strikes Guatemala landfill fire</td>\n",
       "      <td>NaN</td>\n",
       "      <td>NaN</td>\n",
       "      <td>Seymour Tower Eiffel Tower</td>\n",
       "      <td>NaN</td>\n",
       "      <td>NaN</td>\n",
       "      <td>NaN</td>\n",
       "      <td>NaN</td>\n",
       "      <td>NaN</td>\n",
       "      <td>NaN</td>\n",
       "    </tr>\n",
       "    <tr>\n",
       "      <th>65</th>\n",
       "      <td>Utah Man Arrested for Assaulting Officers Duri...</td>\n",
       "      <td>https://news.google.com/rss/articles/CBMieWh0d...</td>\n",
       "      <td>NaN</td>\n",
       "      <td>NaN</td>\n",
       "      <td>NaN</td>\n",
       "      <td>NaN</td>\n",
       "      <td>NaN</td>\n",
       "      <td>NaN</td>\n",
       "      <td>NaN</td>\n",
       "      <td>NaN</td>\n",
       "      <td>NaN</td>\n",
       "      <td>NaN</td>\n",
       "      <td>civil disorder</td>\n",
       "      <td>NaN</td>\n",
       "      <td>NaN</td>\n",
       "      <td>NaN</td>\n",
       "    </tr>\n",
       "    <tr>\n",
       "      <th>66</th>\n",
       "      <td>Video shows flames shooting from Philadelphia ...</td>\n",
       "      <td>https://news.google.com/rss/articles/CBMifmh0d...</td>\n",
       "      <td>NaN</td>\n",
       "      <td>NaN</td>\n",
       "      <td>NaN</td>\n",
       "      <td>NaN</td>\n",
       "      <td>fire fire fire</td>\n",
       "      <td>NaN</td>\n",
       "      <td>NaN</td>\n",
       "      <td>NaN</td>\n",
       "      <td>NaN</td>\n",
       "      <td>NaN</td>\n",
       "      <td>NaN</td>\n",
       "      <td>NaN</td>\n",
       "      <td>NaN</td>\n",
       "      <td>NaN</td>\n",
       "    </tr>\n",
       "    <tr>\n",
       "      <th>67</th>\n",
       "      <td>Video: Storm expected to bring heavy snow, gus...</td>\n",
       "      <td>https://news.google.com/rss/articles/CBMiUGh0d...</td>\n",
       "      <td>NaN</td>\n",
       "      <td>NaN</td>\n",
       "      <td>NaN</td>\n",
       "      <td>NaN</td>\n",
       "      <td>NaN</td>\n",
       "      <td>NaN</td>\n",
       "      <td>NaN</td>\n",
       "      <td>NaN</td>\n",
       "      <td>NaN</td>\n",
       "      <td>power outages</td>\n",
       "      <td>NaN</td>\n",
       "      <td>NaN</td>\n",
       "      <td>NaN</td>\n",
       "      <td>NaN</td>\n",
       "    </tr>\n",
       "    <tr>\n",
       "      <th>68</th>\n",
       "      <td>WFFD respond to truck fire, Old Iowa Park Road...</td>\n",
       "      <td>https://news.google.com/rss/articles/CBMiXWh0d...</td>\n",
       "      <td>NaN</td>\n",
       "      <td>NaN</td>\n",
       "      <td>NaN</td>\n",
       "      <td>NaN</td>\n",
       "      <td>truck fire</td>\n",
       "      <td>NaN</td>\n",
       "      <td>NaN</td>\n",
       "      <td>gas meter</td>\n",
       "      <td>NaN</td>\n",
       "      <td>NaN</td>\n",
       "      <td>NaN</td>\n",
       "      <td>NaN</td>\n",
       "      <td>NaN</td>\n",
       "      <td>NaN</td>\n",
       "    </tr>\n",
       "  </tbody>\n",
       "</table>\n",
       "<p>69 rows × 16 columns</p>\n",
       "</div>"
      ],
      "text/plain": [
       "Label                                              Title  \\\n",
       "0      1 dead, 2 children wounded after 13 y/o goes o...   \n",
       "1      1 dead, 2 injured in fire at northwest Indiana...   \n",
       "2      10th suspect held in Moscow terror attack - Th...   \n",
       "3      2 people rescued from Humber River following l...   \n",
       "4      22 terrorists arrested during 232 IBOs conduct...   \n",
       "..                                                   ...   \n",
       "64     Unexploded WW2 bomb detonated on Jersey's east...   \n",
       "65     Utah Man Arrested for Assaulting Officers Duri...   \n",
       "66     Video shows flames shooting from Philadelphia ...   \n",
       "67     Video: Storm expected to bring heavy snow, gus...   \n",
       "68     WFFD respond to truck fire, Old Iowa Park Road...   \n",
       "\n",
       "Label                                                URL biological    cyber  \\\n",
       "0      https://news.google.com/rss/articles/CBMiX2h0d...        NaN      NaN   \n",
       "1      https://news.google.com/rss/articles/CBMiogFod...        NaN  browser   \n",
       "2      https://news.google.com/rss/articles/CBMieWh0d...        NaN      NaN   \n",
       "3      https://news.google.com/rss/articles/CBMibmh0d...        NaN      NaN   \n",
       "4      https://news.google.com/rss/articles/CBMiYWh0d...        NaN      NaN   \n",
       "..                                                   ...        ...      ...   \n",
       "64     https://news.google.com/rss/articles/CBMiOmh0d...        NaN      NaN   \n",
       "65     https://news.google.com/rss/articles/CBMieWh0d...        NaN      NaN   \n",
       "66     https://news.google.com/rss/articles/CBMifmh0d...        NaN      NaN   \n",
       "67     https://news.google.com/rss/articles/CBMiUGh0d...        NaN      NaN   \n",
       "68     https://news.google.com/rss/articles/CBMiXWh0d...        NaN      NaN   \n",
       "\n",
       "Label earthquake                                     explosion  \\\n",
       "0            NaN                                           NaN   \n",
       "1            NaN                                           NaN   \n",
       "2            NaN                                           NaN   \n",
       "3            NaN                                           NaN   \n",
       "4            NaN                                           NaN   \n",
       "..           ...                                           ...   \n",
       "64           NaN  controlled explosion Guatemala landfill fire   \n",
       "65           NaN                                           NaN   \n",
       "66           NaN                                           NaN   \n",
       "67           NaN                                           NaN   \n",
       "68           NaN                                           NaN   \n",
       "\n",
       "Label                                     fire flood heat  \\\n",
       "0                                          NaN   NaN  NaN   \n",
       "1                                         fire   NaN  NaN   \n",
       "2                                          NaN   NaN  NaN   \n",
       "3                                          NaN   NaN  NaN   \n",
       "4                                          NaN   NaN  NaN   \n",
       "..                                         ...   ...  ...   \n",
       "64     Russian strikes Guatemala landfill fire   NaN  NaN   \n",
       "65                                         NaN   NaN  NaN   \n",
       "66                              fire fire fire   NaN  NaN   \n",
       "67                                         NaN   NaN  NaN   \n",
       "68                                  truck fire   NaN  NaN   \n",
       "\n",
       "Label                  infrastructure                      landslide  \\\n",
       "0                                 NaN                            NaN   \n",
       "1      Mount Zion Suburban Apartments                            NaN   \n",
       "2                                 NaN                            NaN   \n",
       "3               Humber River culverts  landslide landslide landslide   \n",
       "4                                 NaN                            NaN   \n",
       "..                                ...                            ...   \n",
       "64         Seymour Tower Eiffel Tower                            NaN   \n",
       "65                                NaN                            NaN   \n",
       "66                                NaN                            NaN   \n",
       "67                                NaN                            NaN   \n",
       "68                          gas meter                            NaN   \n",
       "\n",
       "Label          power            riot                       terror tornado  \\\n",
       "0                NaN             NaN  mass shooting mass shooting     NaN   \n",
       "1                NaN             NaN                          NaN     NaN   \n",
       "2                NaN        massacre                          NaN     NaN   \n",
       "3                NaN             NaN                          NaN     NaN   \n",
       "4                NaN             NaN                     Al-Qaeda     NaN   \n",
       "..               ...             ...                          ...     ...   \n",
       "64               NaN             NaN                          NaN     NaN   \n",
       "65               NaN  civil disorder                          NaN     NaN   \n",
       "66               NaN             NaN                          NaN     NaN   \n",
       "67     power outages             NaN                          NaN     NaN   \n",
       "68               NaN             NaN                          NaN     NaN   \n",
       "\n",
       "Label   transport  \n",
       "0      ambulances  \n",
       "1             NaN  \n",
       "2             NaN  \n",
       "3       truck car  \n",
       "4             NaN  \n",
       "..            ...  \n",
       "64            NaN  \n",
       "65            NaN  \n",
       "66            NaN  \n",
       "67            NaN  \n",
       "68            NaN  \n",
       "\n",
       "[69 rows x 16 columns]"
      ]
     },
     "execution_count": 197,
     "metadata": {},
     "output_type": "execute_result"
    }
   ],
   "source": [
    "df_pivot = df2.pivot(index=['Title','URL'], columns='Label', values='Text')\n",
    "df_pivot.reset_index(inplace=True)\n",
    "df_pivot = df_pivot.dropna(subset=df_pivot.columns[2:],how='all')\n",
    "df_pivot"
   ]
  },
  {
   "cell_type": "code",
   "execution_count": 198,
   "metadata": {},
   "outputs": [
    {
     "name": "stdout",
     "output_type": "stream",
     "text": [
      "['spring Chinook' 'smolts']\n"
     ]
    }
   ],
   "source": [
    "\n",
    "from collections import Counter\n",
    "\n",
    "# Your list\n",
    "lst = df.Text[df.Label=='biological']\n",
    "\n",
    "# Count the frequency of each element\n",
    "counter = Counter(lst)\n",
    "\n",
    "# Sort the list by frequency\n",
    "sorted_lst = sorted(lst, key=lambda x: -counter[x])\n",
    "\n",
    "print(pd.unique(sorted_lst))"
   ]
  },
  {
   "cell_type": "code",
   "execution_count": 199,
   "metadata": {},
   "outputs": [
    {
     "name": "stdout",
     "output_type": "stream",
     "text": [
      "['3.7 magnitude earthquake' '3.3 quake' '2.3-magnitude earthquake']\n"
     ]
    }
   ],
   "source": [
    "\n",
    "from collections import Counter\n",
    "\n",
    "# Your list\n",
    "lst = df.Text[df.Label=='earthquake']\n",
    "\n",
    "# Count the frequency of each element\n",
    "counter = Counter(lst)\n",
    "\n",
    "# Sort the list by frequency\n",
    "sorted_lst = sorted(lst, key=lambda x: -counter[x])\n",
    "\n",
    "print(pd.unique(sorted_lst))"
   ]
  },
  {
   "cell_type": "code",
   "execution_count": 200,
   "metadata": {},
   "outputs": [
    {
     "name": "stdout",
     "output_type": "stream",
     "text": [
      "['fire' 'six-alarm fire' 'Russian strikes' 'Guatemala landfill fire'\n",
      " 'Israeli fire' 'Fire' 'flames' 'Blaze' 'truck fire' 'multi-alarm fire'\n",
      " 'brush fire']\n"
     ]
    }
   ],
   "source": [
    "\n",
    "from collections import Counter\n",
    "\n",
    "# Your list\n",
    "lst = df.Text[df.Label=='fire']\n",
    "\n",
    "# Count the frequency of each element\n",
    "counter = Counter(lst)\n",
    "\n",
    "# Sort the list by frequency\n",
    "sorted_lst = sorted(lst, key=lambda x: -counter[x])\n",
    "\n",
    "print(pd.unique(sorted_lst))"
   ]
  },
  {
   "cell_type": "code",
   "execution_count": 201,
   "metadata": {},
   "outputs": [],
   "source": [
    "import pandas as pd\n",
    "import os\n",
    "os.getcwd()\n",
    "import graphistry\n",
    "\n",
    "from dotenv import load_dotenv\n",
    "import subprocess, json, argparse, os,requests\n",
    "load_dotenv()\n",
    "g_pass = os.getenv('g_pass')\n",
    "g_user = os.getenv('g_user')\n",
    "\n",
    "graphistry.register(api=3,protocol=\"https\", server=\"hub.graphistry.com\", username=g_user, password=g_pass) ## key id, secret key\n",
    "from graphistry.features import search_model, topic_model, ngrams_model, ModelDict, default_featurize_parameters, default_umap_parameters"
   ]
  },
  {
   "cell_type": "code",
   "execution_count": 203,
   "metadata": {},
   "outputs": [
    {
     "name": "stderr",
     "output_type": "stream",
     "text": [
      "* Ignoring target column of shape (69, 0) in UMAP fit, as it is not one dimensional"
     ]
    },
    {
     "name": "stdout",
     "output_type": "stream",
     "text": [
      "CPU times: user 1.13 s, sys: 244 ms, total: 1.37 s\n",
      "Wall time: 1.16 s\n"
     ]
    },
    {
     "data": {
      "text/plain": [
       "Index(['biological_nan', 'cyber_nan'], dtype='object')"
      ]
     },
     "execution_count": 203,
     "metadata": {},
     "output_type": "execute_result"
    }
   ],
   "source": [
    "%%time\n",
    "g=graphistry.nodes(df_pivot.drop(['URL','Title'],axis=1))\n",
    "g2 = g.umap()#df_pivot.drop(['URL','Title'],axis=1),**topic_model)\n",
    "g2 = g2.dbscan() #min_dist=1, min_samples=3)\n",
    "# g3 = g2.transform_dbscan(df_pivot.drop(['URL','Title'],axis=1),return_graph=False)\n",
    "df2=pd.DataFrame(g2.get_matrix())\n",
    "\n",
    "max_index_per_row = df2.idxmax(axis=1)\n",
    "top_3_indices = max_index_per_row.value_counts().index[:10]\n",
    "top_3_indices"
   ]
  },
  {
   "cell_type": "code",
   "execution_count": 204,
   "metadata": {},
   "outputs": [],
   "source": [
    "# import seaborn as sns\n",
    "# import matplotlib.colors as mcolors\n",
    "# palette = sns.color_palette(\"hls\", 10)\n",
    "# hex_palette = [mcolors.rgb2hex(color) for color in palette]"
   ]
  },
  {
   "cell_type": "code",
   "execution_count": 205,
   "metadata": {},
   "outputs": [
    {
     "data": {
      "text/html": [
       "\n",
       "            <iframe id=\"d9edd97b-c708-4c45-ace1-c3ea006c3264\" src=\"https://hub.graphistry.com/graph/graph.html?dataset=cecfd4bc124946688373223cd3b61da2&type=arrow&viztoken=d79b10f3-82f0-4174-b617-d84b68169900&usertag=09c5b105-pygraphistry-0.33.7&splashAfter=1712905365&info=true&play=0\"\n",
       "                    allowfullscreen=\"true\" webkitallowfullscreen=\"true\" mozallowfullscreen=\"true\"\n",
       "                    oallowfullscreen=\"true\" msallowfullscreen=\"true\"\n",
       "                    style=\"width:100%; height:500px; border: 1px solid #DDD; overflow: hidden\"\n",
       "                    \n",
       "            >\n",
       "            </iframe>\n",
       "        \n",
       "            <script>\n",
       "                try {\n",
       "                  $(\"#d9edd97b-c708-4c45-ace1-c3ea006c3264\").bind('mousewheel', function(e) { e.preventDefault(); });\n",
       "                } catch (e) { console.error('exn catching scroll', e); }\n",
       "            </script>\n",
       "        "
      ],
      "text/plain": [
       "<IPython.core.display.HTML object>"
      ]
     },
     "execution_count": 205,
     "metadata": {},
     "output_type": "execute_result"
    }
   ],
   "source": [
    "g2.plot() # encode_point_color('Label', palette=hex_palette, as_continuous=False).plot()"
   ]
  },
  {
   "cell_type": "markdown",
   "metadata": {},
   "source": [
    "## gpy.feat"
   ]
  },
  {
   "cell_type": "code",
   "execution_count": null,
   "metadata": {},
   "outputs": [],
   "source": [
    "import pandas as pd\n",
    "import os\n",
    "os.getcwd()\n",
    "import graphistry\n",
    "\n",
    "from dotenv import load_dotenv\n",
    "import subprocess, json, argparse, os,requests\n",
    "load_dotenv()\n",
    "g_pass = os.getenv('g_pass')\n",
    "g_user = os.getenv('g_user')\n",
    "\n",
    "graphistry.register(api=3,protocol=\"https\", server=\"hub.graphistry.com\", username=g_user, password=g_pass) ## key id, secret key\n",
    "from graphistry.features import search_model, topic_model, ngrams_model, ModelDict, default_featurize_parameters, default_umap_parameters"
   ]
  },
  {
   "cell_type": "code",
   "execution_count": 207,
   "metadata": {},
   "outputs": [],
   "source": [
    "indices2 = [i for i, x in enumerate(articles) if len(str(x)) <50]\n",
    "(len(indices2))\n",
    "articles_not_in_indices2 = [article for i, article in enumerate(articles) if i not in indices2]\n",
    "\n",
    "df=pd.Series(articles_not_in_indices2).to_frame()\n",
    "object_columns = df.select_dtypes(include=['object']).columns\n",
    "df[object_columns] = df[object_columns].astype(str)\n",
    "df.columns=['text']\n",
    "df['text'] = df['text'].str.replace(\"', '\", ' ')\n",
    "df['text'] = df['text'].str.replace('\", \"', ' ')\n",
    "df['text'] = df['text'].str.replace('\" \"', ' ')\n",
    "df['text'] = df['text'].str.replace(\"' '\", ' ')\n",
    "df['text'] = df['text'].str.replace(\"\\'\", ' ')\n",
    "df['text'] = df['text'].str.replace(\"]\", ' ')\n",
    "df['text'] = df['text'].str.replace(\"[\", ' ')\n",
    "object_columns = df.select_dtypes(include=['object']).columns\n",
    "df[object_columns] = df[object_columns].astype(str)"
   ]
  },
  {
   "cell_type": "code",
   "execution_count": 208,
   "metadata": {},
   "outputs": [
    {
     "data": {
      "text/html": [
       "<div>\n",
       "<style scoped>\n",
       "    .dataframe tbody tr th:only-of-type {\n",
       "        vertical-align: middle;\n",
       "    }\n",
       "\n",
       "    .dataframe tbody tr th {\n",
       "        vertical-align: top;\n",
       "    }\n",
       "\n",
       "    .dataframe thead th {\n",
       "        text-align: right;\n",
       "    }\n",
       "</style>\n",
       "<table border=\"1\" class=\"dataframe\">\n",
       "  <thead>\n",
       "    <tr style=\"text-align: right;\">\n",
       "      <th></th>\n",
       "      <th>text</th>\n",
       "    </tr>\n",
       "  </thead>\n",
       "  <tbody>\n",
       "    <tr>\n",
       "      <th>0</th>\n",
       "      <td>The Nigerian Army has confirmed a minor expl...</td>\n",
       "    </tr>\n",
       "    <tr>\n",
       "      <th>1</th>\n",
       "      <td>Raipur, Apr 2 (PTI) In a major anti-insurge...</td>\n",
       "    </tr>\n",
       "    <tr>\n",
       "      <th>2</th>\n",
       "      <td>Notifications can be managed in browser pref...</td>\n",
       "    </tr>\n",
       "    <tr>\n",
       "      <th>3</th>\n",
       "      <td>The police arrested a 19-year-old Rotterdam ...</td>\n",
       "    </tr>\n",
       "    <tr>\n",
       "      <th>4</th>\n",
       "      <td>\"A major Russian attack on energy infrastruct...</td>\n",
       "    </tr>\n",
       "    <tr>\n",
       "      <th>...</th>\n",
       "      <td>...</td>\n",
       "    </tr>\n",
       "    <tr>\n",
       "      <th>617</th>\n",
       "      <td>Police detain protesters during the so-calle...</td>\n",
       "    </tr>\n",
       "    <tr>\n",
       "      <th>618</th>\n",
       "      <td>The latest breaking updates, delivered strai...</td>\n",
       "    </tr>\n",
       "    <tr>\n",
       "      <th>619</th>\n",
       "      <td>WEATHER ALERT Christian Terry, Digital Conte...</td>\n",
       "    </tr>\n",
       "    <tr>\n",
       "      <th>620</th>\n",
       "      <td>LINCOLN, Neb. (KOLN) - A man was cited after...</td>\n",
       "    </tr>\n",
       "    <tr>\n",
       "      <th>621</th>\n",
       "      <td>Copyright 2024 The Associated Press. All Rig...</td>\n",
       "    </tr>\n",
       "  </tbody>\n",
       "</table>\n",
       "<p>622 rows × 1 columns</p>\n",
       "</div>"
      ],
      "text/plain": [
       "                                                  text\n",
       "0      The Nigerian Army has confirmed a minor expl...\n",
       "1       Raipur, Apr 2 (PTI) In a major anti-insurge...\n",
       "2      Notifications can be managed in browser pref...\n",
       "3      The police arrested a 19-year-old Rotterdam ...\n",
       "4     \"A major Russian attack on energy infrastruct...\n",
       "..                                                 ...\n",
       "617    Police detain protesters during the so-calle...\n",
       "618    The latest breaking updates, delivered strai...\n",
       "619    WEATHER ALERT Christian Terry, Digital Conte...\n",
       "620    LINCOLN, Neb. (KOLN) - A man was cited after...\n",
       "621    Copyright 2024 The Associated Press. All Rig...\n",
       "\n",
       "[622 rows x 1 columns]"
      ]
     },
     "execution_count": 208,
     "metadata": {},
     "output_type": "execute_result"
    }
   ],
   "source": [
    "df"
   ]
  },
  {
   "cell_type": "code",
   "execution_count": 209,
   "metadata": {},
   "outputs": [
    {
     "name": "stderr",
     "output_type": "stream",
     "text": [
      "* Ignoring target column of shape (622, 0) in UMAP fit, as it is not one dimensional"
     ]
    },
    {
     "name": "stdout",
     "output_type": "stream",
     "text": [
      "CPU times: user 17min 14s, sys: 1min 50s, total: 19min 4s\n",
      "Wall time: 3min 3s\n"
     ]
    },
    {
     "data": {
      "text/plain": [
       "Index(['text: firefighters, firefighter, alcofirefighters',\n",
       "       'text: ljlo9b5ncj, h9zep9aikz, yvmqjhizmn',\n",
       "       'text: newfoundland, sudbury, kutzner',\n",
       "       'text: rewritten, boyfriend, physically',\n",
       "       'text: northeasterly, northwestern, northeastern',\n",
       "       'text: ___________________________________________________________________________________________________________, 87301f6d7b5384de, 873021da98530510',\n",
       "       'text: spokesperson, 01676637, services',\n",
       "       'text: subscribe, subscriber, geopolitics',\n",
       "       'text: gkj0hjujdr, meteorologist, qmmu4tcxt1',\n",
       "       'text: menafn02042024000045015687id1108047153, menafn02042024000063011010id1108048574, menafn02042024000045015687id1108047138'],\n",
       "      dtype='object')"
      ]
     },
     "execution_count": 209,
     "metadata": {},
     "output_type": "execute_result"
    }
   ],
   "source": [
    "%%time\n",
    "g=graphistry.nodes(df)\n",
    "g2 = g.umap(df,**topic_model)\n",
    "g2 = g2.dbscan() #min_dist=1, min_samples=3)\n",
    "g3 = g2.transform_dbscan(df,return_graph=False)\n",
    "df2=pd.DataFrame(g2.get_matrix())\n",
    "\n",
    "max_index_per_row = df2.idxmax(axis=1)\n",
    "top_3_indices = max_index_per_row.value_counts().index[:10]\n",
    "top_3_indices"
   ]
  },
  {
   "cell_type": "code",
   "execution_count": 210,
   "metadata": {},
   "outputs": [
    {
     "data": {
      "text/html": [
       "\n",
       "            <iframe id=\"7741ddff-a1f3-4644-862a-52bd3775b902\" src=\"https://hub.graphistry.com/graph/graph.html?dataset=f842bb3c4f1f43ec8adf0592c7bc79d3&type=arrow&viztoken=6e0c5e8f-b49b-47e5-a638-66b4d061c23b&usertag=09c5b105-pygraphistry-0.33.7&splashAfter=1712906274&info=true&play=0\"\n",
       "                    allowfullscreen=\"true\" webkitallowfullscreen=\"true\" mozallowfullscreen=\"true\"\n",
       "                    oallowfullscreen=\"true\" msallowfullscreen=\"true\"\n",
       "                    style=\"width:100%; height:500px; border: 1px solid #DDD; overflow: hidden\"\n",
       "                    \n",
       "            >\n",
       "            </iframe>\n",
       "        \n",
       "            <script>\n",
       "                try {\n",
       "                  $(\"#7741ddff-a1f3-4644-862a-52bd3775b902\").bind('mousewheel', function(e) { e.preventDefault(); });\n",
       "                } catch (e) { console.error('exn catching scroll', e); }\n",
       "            </script>\n",
       "        "
      ],
      "text/plain": [
       "<IPython.core.display.HTML object>"
      ]
     },
     "execution_count": 210,
     "metadata": {},
     "output_type": "execute_result"
    }
   ],
   "source": [
    "g2.plot()"
   ]
  },
  {
   "cell_type": "markdown",
   "metadata": {},
   "source": [
    "## distilroberta featurize"
   ]
  },
  {
   "cell_type": "code",
   "execution_count": 212,
   "metadata": {},
   "outputs": [],
   "source": [
    "from DOTS.feat import featurize_stories\n",
    "import graphistry"
   ]
  },
  {
   "cell_type": "code",
   "execution_count": 213,
   "metadata": {},
   "outputs": [
    {
     "data": {
      "text/plain": [
       "['severe weather', 'falling rain', 'kindergarten']"
      ]
     },
     "execution_count": 213,
     "metadata": {},
     "output_type": "execute_result"
    }
   ],
   "source": [
    "featurize_stories(str(articles[211]), top_k = 3, max_len=512)"
   ]
  },
  {
   "cell_type": "code",
   "execution_count": 214,
   "metadata": {},
   "outputs": [
    {
     "name": "stderr",
     "output_type": "stream",
     "text": [
      "100%|██████████| 622/622 [16:14<00:00,  1.57s/it]\n"
     ]
    }
   ],
   "source": [
    "rank_articles=[]\n",
    "from tqdm import tqdm\n",
    "indices3 = [i for i in range(len(articles)) if i not in indices2]\n",
    "\n",
    "for i in tqdm(indices3):\n",
    "    try:\n",
    "        cc = featurize_stories(str(articles[i]), top_k = 3, max_len=512)\n",
    "        rank_articles.append([cc])\n",
    "    except:\n",
    "        pass"
   ]
  },
  {
   "cell_type": "code",
   "execution_count": 215,
   "metadata": {},
   "outputs": [],
   "source": [
    "flattened_list = [item for sublist in rank_articles for item in sublist]"
   ]
  },
  {
   "cell_type": "code",
   "execution_count": 216,
   "metadata": {},
   "outputs": [],
   "source": [
    "import pandas as pd\n",
    "import os\n",
    "os.getcwd()\n",
    "import graphistry\n",
    "\n",
    "from dotenv import load_dotenv\n",
    "import subprocess, json, argparse, os,requests\n",
    "load_dotenv()\n",
    "g_pass = os.getenv('g_pass')\n",
    "g_user = os.getenv('g_user')\n",
    "\n",
    "graphistry.register(api=3,protocol=\"https\", server=\"hub.graphistry.com\", username=g_user, password=g_pass) ## key id, secret key"
   ]
  },
  {
   "cell_type": "code",
   "execution_count": 217,
   "metadata": {},
   "outputs": [],
   "source": [
    "# pd.DataFrame(flattened_list).to_csv('big_test.txt')\n",
    "# data=pd.read_csv('../../../big_test.txt',index_col=0)"
   ]
  },
  {
   "cell_type": "code",
   "execution_count": 218,
   "metadata": {},
   "outputs": [
    {
     "name": "stderr",
     "output_type": "stream",
     "text": [
      "* Ignoring target column of shape (539, 0) in UMAP fit, as it is not one dimensional"
     ]
    },
    {
     "data": {
      "text/plain": [
       "Index(['2: weather, severe, death', '2: thunderstorms, storms, widespread',\n",
       "       '2: belotserkovsky, impoverishment, urmărește',\n",
       "       '2: youssef, hussein, county', '0: firefighters, night, fires',\n",
       "       '2: dahdouh, pourahmadi, damage',\n",
       "       '2: firefighters, firefighter, daughters',\n",
       "       '2: afternoon, aftershocks, enter',\n",
       "       '2: authorities, mississippi, puppies',\n",
       "       '1: israeli, warplanes, rezidențiale'],\n",
       "      dtype='object')"
      ]
     },
     "execution_count": 218,
     "metadata": {},
     "output_type": "execute_result"
    }
   ],
   "source": [
    "# import pandas as pd\n",
    "data=pd.DataFrame(flattened_list)  # each ranked feature is a row\n",
    "data=data.dropna(how='any')\n",
    "data=data.drop_duplicates()\n",
    "\n",
    "object_columns = data.select_dtypes(include=['object']).columns\n",
    "data[object_columns] = data[object_columns].astype(str)\n",
    "\n",
    "# g = graphistry.edges(data).materialize_nodes()\n",
    "g = graphistry.nodes(data)\n",
    "# g2 = g.featurize()\n",
    "# g2._clustersummary()\n",
    "\n",
    "g22 = g.umap()\n",
    "g22=g22.dbscan()#min_dist=0.1, min_samples=3) #82 groups\n",
    "g33 = g22.transform_dbscan(data,return_graph=False)\n",
    "df22=pd.DataFrame(g22.get_matrix())\n",
    "\n",
    "max_index_per_row = df22.idxmax(axis=1)\n",
    "top_33_indices = max_index_per_row.value_counts().index[:10]\n",
    "top_33_indices"
   ]
  },
  {
   "cell_type": "code",
   "execution_count": 219,
   "metadata": {},
   "outputs": [
    {
     "data": {
      "text/html": [
       "\n",
       "            <iframe id=\"447b9243-faaa-4409-bc86-19f57a3fc633\" src=\"https://hub.graphistry.com/graph/graph.html?dataset=81078ecbeebe4674a9d12771975e3428&type=arrow&viztoken=8de225e2-a1bd-4839-9449-1459bece1824&usertag=09c5b105-pygraphistry-0.33.7&splashAfter=1712907368&info=true&play=0\"\n",
       "                    allowfullscreen=\"true\" webkitallowfullscreen=\"true\" mozallowfullscreen=\"true\"\n",
       "                    oallowfullscreen=\"true\" msallowfullscreen=\"true\"\n",
       "                    style=\"width:100%; height:500px; border: 1px solid #DDD; overflow: hidden\"\n",
       "                    \n",
       "            >\n",
       "            </iframe>\n",
       "        \n",
       "            <script>\n",
       "                try {\n",
       "                  $(\"#447b9243-faaa-4409-bc86-19f57a3fc633\").bind('mousewheel', function(e) { e.preventDefault(); });\n",
       "                } catch (e) { console.error('exn catching scroll', e); }\n",
       "            </script>\n",
       "        "
      ],
      "text/plain": [
       "<IPython.core.display.HTML object>"
      ]
     },
     "execution_count": 219,
     "metadata": {},
     "output_type": "execute_result"
    }
   ],
   "source": [
    "g22.plot() # .encode_point_color('_dbscan',palette=[\"hotpink\", \"dodgerblue\"],as_continuous=True).plot()"
   ]
  }
 ],
 "metadata": {
  "kernelspec": {
   "display_name": "mypy3",
   "language": "python",
   "name": "python3"
  },
  "language_info": {
   "codemirror_mode": {
    "name": "ipython",
    "version": 3
   },
   "file_extension": ".py",
   "mimetype": "text/x-python",
   "name": "python",
   "nbconvert_exporter": "python",
   "pygments_lexer": "ipython3",
   "version": "3.12.2"
  }
 },
 "nbformat": 4,
 "nbformat_minor": 2
}
