{
 "cells": [
  {
   "cell_type": "markdown",
   "metadata": {},
   "source": [
    "## test-google-news-index"
   ]
  },
  {
   "cell_type": "code",
   "execution_count": 1,
   "metadata": {},
   "outputs": [
    {
     "data": {
      "text/plain": [
       "'/Users/apple/WRK/dcolinmorgan/dots'"
      ]
     },
     "execution_count": 1,
     "metadata": {},
     "output_type": "execute_result"
    }
   ],
   "source": [
    "import os\n",
    "os.chdir('..')\n",
    "os.getcwd()"
   ]
  },
  {
   "cell_type": "code",
   "execution_count": 2,
   "metadata": {},
   "outputs": [],
   "source": [
    "from DOTS.scrape import get_OS_data, get_test_gnews\n",
    "from DOTS.pull import pull_data, process_url\n",
    "from DOTS.ingestion_utils import safe_iter_pull, iter_pull, reduce_newlines, scrape_selenium_headless"
   ]
  },
  {
   "cell_type": "code",
   "execution_count": 3,
   "metadata": {},
   "outputs": [],
   "source": [
    "import getpass\n",
    "import os\n",
    "\n",
    "# os.environ[\"OPENAI_API_KEY\"] = getpass.getpass(\"OpenAI API Key:\")\n",
    "\n",
    "from langchain_community.document_loaders import TextLoader\n",
    "from langchain_community.vectorstores import OpenSearchVectorSearch\n",
    "from langchain_openai import OpenAIEmbeddings\n",
    "from langchain_text_splitters import CharacterTextSplitter"
   ]
  },
  {
   "cell_type": "code",
   "execution_count": 4,
   "metadata": {},
   "outputs": [],
   "source": [
    "from dotenv import load_dotenv\n",
    "import subprocess, json, argparse, os,requests\n",
    "load_dotenv()\n",
    "os_url = os.getenv('OS_TOKEN')\n",
    "openai_KEY = os.getenv('OPENAI_API_KEY')\n",
    "\n",
    "lobstr_key = os.getenv('LOBSTR_KEY')"
   ]
  },
  {
   "cell_type": "code",
   "execution_count": 5,
   "metadata": {},
   "outputs": [
    {
     "name": "stderr",
     "output_type": "stream",
     "text": [
      "grabbing text from url: 100%|██████████| 821/821 [02:29<00:00,  5.49it/s]"
     ]
    },
    {
     "name": "stdout",
     "output_type": "stream",
     "text": [
      "199\n"
     ]
    },
    {
     "name": "stderr",
     "output_type": "stream",
     "text": [
      "\n"
     ]
    }
   ],
   "source": [
    "response = get_test_gnews(1000)\n",
    "hits = response[\"hits\"][\"hits\"]\n",
    "articles = pull_data(hits)\n",
    "indices = [i for i, x in enumerate(articles) if len(str(x)) < 50]\n",
    "print(len(indices))\n",
    "# for i in indices:\n",
    "#     url = hits[i]['_source']['metadata']['link']\n",
    "#     # print(url)\n",
    "#     try:\n",
    "#         articles[i] = scrape_selenium_headless(url,browser='undetected_chrome')\n",
    "#     except:\n",
    "#         pass\n",
    "# indices2 = [i for i, x in enumerate(articles) if len(str(x)) <50]\n",
    "# print(len(indices2))"
   ]
  },
  {
   "cell_type": "code",
   "execution_count": 6,
   "metadata": {},
   "outputs": [
    {
     "name": "stdout",
     "output_type": "stream",
     "text": [
      "199\n"
     ]
    }
   ],
   "source": [
    "indices2 = [i for i, x in enumerate(articles) if len(str(x)) <50]\n",
    "print(len(indices2))\n",
    "articles_not_in_indices2 = [article for i, article in enumerate(articles) if i not in indices2]"
   ]
  },
  {
   "cell_type": "markdown",
   "metadata": {},
   "source": [
    "## GLiNER"
   ]
  },
  {
   "cell_type": "code",
   "execution_count": 148,
   "metadata": {},
   "outputs": [
    {
     "name": "stdout",
     "output_type": "stream",
     "text": [
      "199\n"
     ]
    }
   ],
   "source": [
    "from gliner import GLiNER\n",
    "model = GLiNER.from_pretrained(\"urchade/gliner_base\")\n",
    "\n",
    "indices2 = [i for i, x in enumerate(articles) if len(str(x)) <50]\n",
    "print(len(indices2))\n",
    "text = [article for i, article in enumerate(articles) if i not in indices2]\n",
    "hh = [hit for i, hit in enumerate(hits) if i not in indices2]"
   ]
  },
  {
   "cell_type": "code",
   "execution_count": 181,
   "metadata": {},
   "outputs": [
    {
     "data": {
      "text/plain": [
       "[622, 622]"
      ]
     },
     "execution_count": 181,
     "metadata": {},
     "output_type": "execute_result"
    }
   ],
   "source": [
    "[len(hh),len(text)]"
   ]
  },
  {
   "cell_type": "code",
   "execution_count": 153,
   "metadata": {},
   "outputs": [
    {
     "name": "stdout",
     "output_type": "stream",
     "text": [
      "1464\n"
     ]
    }
   ],
   "source": [
    "import pandas as pd\n",
    "\n",
    "labels=['disaster', 'flood', 'weather', 'hurricane', 'fire', 'date', 'location']#, 'politician', 'corporation', 'government_agency', 'military']\n",
    "df = pd.DataFrame(columns=['Title','URL', 'Text', 'Label', 'Date','Location'])\n",
    "\n",
    "for hit,article in zip(hh[:100],text[:100]):\n",
    "    entities = model.predict_entities(''.join(article), labels)\n",
    "    for entity in entities:\n",
    "        row = pd.DataFrame({'Title': [hit['_source']['metadata']['title']],\n",
    "                            'URL': [hit['_source']['metadata']['link']], \n",
    "                            'Text': [entity[\"text\"]], \n",
    "                            'Label': [entity[\"label\"]]})\n",
    "        df = pd.concat([df, row], ignore_index=True)\n",
    "print(len(df))"
   ]
  },
  {
   "cell_type": "code",
   "execution_count": 155,
   "metadata": {},
   "outputs": [],
   "source": [
    "df2 = df.groupby(['Title','URL','Label']).agg({'Text': ' '.join}).reset_index()"
   ]
  },
  {
   "cell_type": "code",
   "execution_count": null,
   "metadata": {},
   "outputs": [],
   "source": [
    "df_pivot = df2.pivot(index=['Title','URL'], columns='Label', values='Text')\n",
    "df_pivot.reset_index(inplace=True)\n",
    "df_pivot = df_pivot.dropna(subset=['disaster','fire','flood','weather'],how='all')\n",
    "df_pivot"
   ]
  },
  {
   "cell_type": "code",
   "execution_count": 182,
   "metadata": {},
   "outputs": [
    {
     "name": "stdout",
     "output_type": "stream",
     "text": [
      "['landslide' 'World War Two' 'gas leak' 'famine' 'snow event' 'flooding']\n"
     ]
    }
   ],
   "source": [
    "\n",
    "from collections import Counter\n",
    "\n",
    "# Your list\n",
    "lst = df.Text[df.Label=='disaster']\n",
    "\n",
    "# Count the frequency of each element\n",
    "counter = Counter(lst)\n",
    "\n",
    "# Sort the list by frequency\n",
    "sorted_lst = sorted(lst, key=lambda x: -counter[x])\n",
    "\n",
    "print(pd.unique(sorted_lst))"
   ]
  },
  {
   "cell_type": "code",
   "execution_count": 185,
   "metadata": {},
   "outputs": [
    {
     "name": "stdout",
     "output_type": "stream",
     "text": [
      "['snow' 'rain' 'tornadoes' 'showers' 'sunshine' 'wind' 'sleet' 'storm'\n",
      " 'jet stream' 'winds' 'severe weather' 'straight-line winds' 'tornado'\n",
      " 'wet snow' 'power outages' 'Wind gusts' 'wind gusts' 'gusty winds'\n",
      " 'Polar air' 'storms' 'Rain' 'floodwaters' 'snow bomb' 'rainfall'\n",
      " 'snowfall' 'flood waters' 'solar eclipse' 'tornado watches' 'heavy rain'\n",
      " 'wet flakes' 'large hail' 'severe thunderstorms' 'cold front'\n",
      " '60 mph will be the primary concern. However a tornado'\n",
      " 'tornado warning\\xa0means residents should take shelter immediately because a tornado'\n",
      " 'Tornadoes' 'EF2 tornado' 'straight line winds' 'EF-0 tornado' 'ENE wind'\n",
      " 'wintry mix' 'Tropical air' 'Atlantic weather systems' 'sub-tropical air'\n",
      " 'Jet stream' 'water tables' 'tropical air' 'flood water'\n",
      " 'Wind gusts of 60-70+ mph will be likely. Tree damage' 'Wind Advisories'\n",
      " 'rain showers' 'lightning' 'flooding' 'thunderstorms' 'hail'\n",
      " 'Spring sunshine' 'wintry weather' 'Spring sunshineRead' 'temperatures'\n",
      " 'windy' 'mild' 'Showers' 'geopolitical climate' 'Straight line winds'\n",
      " 'clouds' 'S' 'ESE' 'WSW' 'water damage' 'ice'\n",
      " 'wind gusts could hit 80 kilometres an hour.The rain'\n",
      " 'daytime temperatures' 'icy']\n"
     ]
    }
   ],
   "source": [
    "\n",
    "from collections import Counter\n",
    "\n",
    "# Your list\n",
    "lst = df.Text[df.Label=='weather']\n",
    "\n",
    "# Count the frequency of each element\n",
    "counter = Counter(lst)\n",
    "\n",
    "# Sort the list by frequency\n",
    "sorted_lst = sorted(lst, key=lambda x: -counter[x])\n",
    "\n",
    "print(pd.unique(sorted_lst))"
   ]
  },
  {
   "cell_type": "code",
   "execution_count": 183,
   "metadata": {},
   "outputs": [
    {
     "name": "stdout",
     "output_type": "stream",
     "text": [
      "['fire' 'six-alarm fire' 'Israeli fire' 'Fire' 'truck fire'\n",
      " 'multi-alarm fire' 'brush fire']\n"
     ]
    }
   ],
   "source": [
    "\n",
    "from collections import Counter\n",
    "\n",
    "# Your list\n",
    "lst = df.Text[df.Label=='fire']\n",
    "\n",
    "# Count the frequency of each element\n",
    "counter = Counter(lst)\n",
    "\n",
    "# Sort the list by frequency\n",
    "sorted_lst = sorted(lst, key=lambda x: -counter[x])\n",
    "\n",
    "print(pd.unique(sorted_lst))"
   ]
  },
  {
   "cell_type": "code",
   "execution_count": 31,
   "metadata": {},
   "outputs": [],
   "source": [
    "import pandas as pd\n",
    "import os\n",
    "os.getcwd()\n",
    "import graphistry\n",
    "\n",
    "from dotenv import load_dotenv\n",
    "import subprocess, json, argparse, os,requests\n",
    "load_dotenv()\n",
    "g_pass = os.getenv('g_pass')\n",
    "g_user = os.getenv('g_user')\n",
    "\n",
    "graphistry.register(api=3,protocol=\"https\", server=\"hub.graphistry.com\", username=g_user, password=g_pass) ## key id, secret key\n",
    "from graphistry.features import search_model, topic_model, ngrams_model, ModelDict, default_featurize_parameters, default_umap_parameters"
   ]
  },
  {
   "cell_type": "code",
   "execution_count": 178,
   "metadata": {},
   "outputs": [
    {
     "name": "stderr",
     "output_type": "stream",
     "text": [
      "* Ignoring target column of shape (38, 0) in UMAP fit, as it is not one dimensional"
     ]
    },
    {
     "name": "stdout",
     "output_type": "stream",
     "text": [
      "CPU times: user 1.07 s, sys: 240 ms, total: 1.31 s\n",
      "Wall time: 1.15 s\n"
     ]
    },
    {
     "data": {
      "text/plain": [
       "Index(['disaster_nan', 'disaster_landslide flooding landslide landslide',\n",
       "       'disaster_famine', 'disaster_snow event', 'disaster_World War Two',\n",
       "       'disaster_gas leak'],\n",
       "      dtype='object')"
      ]
     },
     "execution_count": 178,
     "metadata": {},
     "output_type": "execute_result"
    }
   ],
   "source": [
    "%%time\n",
    "g=graphistry.nodes(df_pivot.drop(['URL','Title','date'],axis=1))\n",
    "g2 = g.umap()#df_pivot.drop(['URL','Title'],axis=1),**topic_model)\n",
    "g2 = g2.dbscan() #min_dist=1, min_samples=3)\n",
    "# g3 = g2.transform_dbscan(df_pivot.drop(['URL','Title'],axis=1),return_graph=False)\n",
    "df2=pd.DataFrame(g2.get_matrix())\n",
    "\n",
    "max_index_per_row = df2.idxmax(axis=1)\n",
    "top_3_indices = max_index_per_row.value_counts().index[:10]\n",
    "top_3_indices"
   ]
  },
  {
   "cell_type": "code",
   "execution_count": 179,
   "metadata": {},
   "outputs": [],
   "source": [
    "import seaborn as sns\n",
    "import matplotlib.colors as mcolors\n",
    "palette = sns.color_palette(\"hls\", 10)\n",
    "hex_palette = [mcolors.rgb2hex(color) for color in palette]"
   ]
  },
  {
   "cell_type": "code",
   "execution_count": 180,
   "metadata": {},
   "outputs": [
    {
     "data": {
      "text/html": [
       "\n",
       "            <iframe id=\"3d456ce5-e7cf-436c-9733-3d4fc6bb7f30\" src=\"https://hub.graphistry.com/graph/graph.html?dataset=a49e95474f814823913db01716f603cb&type=arrow&viztoken=798178c3-ee1f-4908-8224-1d7393c2bbc2&usertag=09c5b105-pygraphistry-0.33.7&splashAfter=1712903077&info=true&play=0\"\n",
       "                    allowfullscreen=\"true\" webkitallowfullscreen=\"true\" mozallowfullscreen=\"true\"\n",
       "                    oallowfullscreen=\"true\" msallowfullscreen=\"true\"\n",
       "                    style=\"width:100%; height:500px; border: 1px solid #DDD; overflow: hidden\"\n",
       "                    \n",
       "            >\n",
       "            </iframe>\n",
       "        \n",
       "            <script>\n",
       "                try {\n",
       "                  $(\"#3d456ce5-e7cf-436c-9733-3d4fc6bb7f30\").bind('mousewheel', function(e) { e.preventDefault(); });\n",
       "                } catch (e) { console.error('exn catching scroll', e); }\n",
       "            </script>\n",
       "        "
      ],
      "text/plain": [
       "<IPython.core.display.HTML object>"
      ]
     },
     "execution_count": 180,
     "metadata": {},
     "output_type": "execute_result"
    }
   ],
   "source": [
    "g2.plot() # encode_point_color('Label', palette=hex_palette, as_continuous=False).plot()"
   ]
  },
  {
   "cell_type": "code",
   "execution_count": 9,
   "metadata": {},
   "outputs": [
    {
     "ename": "NameError",
     "evalue": "name 'stopppppp' is not defined",
     "output_type": "error",
     "traceback": [
      "\u001b[0;31m---------------------------------------------------------------------------\u001b[0m",
      "\u001b[0;31mNameError\u001b[0m                                 Traceback (most recent call last)",
      "Cell \u001b[0;32mIn[9], line 1\u001b[0m\n\u001b[0;32m----> 1\u001b[0m \u001b[43mstopppppp\u001b[49m\n",
      "\u001b[0;31mNameError\u001b[0m: name 'stopppppp' is not defined"
     ]
    }
   ],
   "source": [
    "stopppppp"
   ]
  },
  {
   "cell_type": "markdown",
   "metadata": {},
   "source": [
    "## g.feat"
   ]
  },
  {
   "cell_type": "code",
   "execution_count": null,
   "metadata": {},
   "outputs": [],
   "source": [
    "import pandas as pd\n",
    "import os\n",
    "os.getcwd()\n",
    "import graphistry\n",
    "\n",
    "from dotenv import load_dotenv\n",
    "import subprocess, json, argparse, os,requests\n",
    "load_dotenv()\n",
    "g_pass = os.getenv('g_pass')\n",
    "g_user = os.getenv('g_user')\n",
    "\n",
    "graphistry.register(api=3,protocol=\"https\", server=\"hub.graphistry.com\", username=g_user, password=g_pass) ## key id, secret key\n",
    "from graphistry.features import search_model, topic_model, ngrams_model, ModelDict, default_featurize_parameters, default_umap_parameters"
   ]
  },
  {
   "cell_type": "code",
   "execution_count": null,
   "metadata": {},
   "outputs": [],
   "source": [
    "indices2 = [i for i, x in enumerate(articles) if len(str(x)) <50]\n",
    "(len(indices2))\n",
    "articles_not_in_indices2 = [article for i, article in enumerate(articles) if i not in indices2]\n",
    "\n",
    "df=pd.Series(articles_not_in_indices2).to_frame()\n",
    "object_columns = df.select_dtypes(include=['object']).columns\n",
    "df[object_columns] = df[object_columns].astype(str)\n",
    "df.columns=['text']\n",
    "df['text'] = df['text'].str.replace(\"', '\", ' ')\n",
    "df['text'] = df['text'].str.replace('\", \"', ' ')\n",
    "df['text'] = df['text'].str.replace('\" \"', ' ')\n",
    "df['text'] = df['text'].str.replace(\"' '\", ' ')\n",
    "df['text'] = df['text'].str.replace(\"\\'\", ' ')\n",
    "df['text'] = df['text'].str.replace(\"]\", ' ')\n",
    "df['text'] = df['text'].str.replace(\"[\", ' ')\n",
    "object_columns = df.select_dtypes(include=['object']).columns\n",
    "df[object_columns] = df[object_columns].astype(str)"
   ]
  },
  {
   "cell_type": "code",
   "execution_count": null,
   "metadata": {},
   "outputs": [],
   "source": [
    "df"
   ]
  },
  {
   "cell_type": "code",
   "execution_count": null,
   "metadata": {},
   "outputs": [],
   "source": [
    "%%time\n",
    "g=graphistry.nodes(df)\n",
    "g2 = g.umap(df,**topic_model)\n",
    "g2 = g2.dbscan() #min_dist=1, min_samples=3)\n",
    "g3 = g2.transform_dbscan(df,return_graph=False)\n",
    "df2=pd.DataFrame(g2.get_matrix())\n",
    "\n",
    "max_index_per_row = df2.idxmax(axis=1)\n",
    "top_3_indices = max_index_per_row.value_counts().index[:10]\n",
    "top_3_indices"
   ]
  },
  {
   "cell_type": "code",
   "execution_count": null,
   "metadata": {},
   "outputs": [],
   "source": [
    "g2.plot()"
   ]
  },
  {
   "cell_type": "markdown",
   "metadata": {},
   "source": [
    "## featurize"
   ]
  },
  {
   "cell_type": "code",
   "execution_count": null,
   "metadata": {},
   "outputs": [],
   "source": [
    "from DOTS.feat import featurize_stories\n",
    "import graphistry\n",
    "import umap"
   ]
  },
  {
   "cell_type": "code",
   "execution_count": null,
   "metadata": {},
   "outputs": [],
   "source": [
    "featurize_stories(str(articles[711]), top_k = 3, max_len=512)"
   ]
  },
  {
   "cell_type": "code",
   "execution_count": null,
   "metadata": {},
   "outputs": [],
   "source": [
    "rank_articles=[]\n",
    "from tqdm import tqdm\n",
    "indices3 = [i for i in range(len(articles)) if i not in indices2]\n",
    "\n",
    "for i in tqdm(indices3):\n",
    "    try:\n",
    "        cc = featurize_stories(str(articles[i]), top_k = 3, max_len=512)\n",
    "        rank_articles.append([cc])\n",
    "    except:\n",
    "        pass"
   ]
  },
  {
   "cell_type": "code",
   "execution_count": null,
   "metadata": {},
   "outputs": [],
   "source": [
    "os.getcwd()"
   ]
  },
  {
   "cell_type": "code",
   "execution_count": null,
   "metadata": {},
   "outputs": [],
   "source": [
    "flattened_list = [item for sublist in rank_articles for item in sublist]"
   ]
  },
  {
   "cell_type": "code",
   "execution_count": null,
   "metadata": {},
   "outputs": [],
   "source": [
    "import pandas as pd\n",
    "import os\n",
    "os.getcwd()\n",
    "import graphistry\n",
    "\n",
    "from dotenv import load_dotenv\n",
    "import subprocess, json, argparse, os,requests\n",
    "load_dotenv()\n",
    "g_pass = os.getenv('g_pass')\n",
    "g_user = os.getenv('g_user')\n",
    "\n",
    "graphistry.register(api=3,protocol=\"https\", server=\"hub.graphistry.com\", username=g_user, password=g_pass) ## key id, secret key"
   ]
  },
  {
   "cell_type": "code",
   "execution_count": null,
   "metadata": {},
   "outputs": [],
   "source": [
    "# pd.DataFrame(flattened_list).to_csv('big_test.txt')\n",
    "# data=pd.read_csv('../../../big_test.txt',index_col=0)"
   ]
  },
  {
   "cell_type": "code",
   "execution_count": null,
   "metadata": {},
   "outputs": [],
   "source": [
    "# import pandas as pd\n",
    "data=pd.DataFrame(flattened_list)  # each ranked feature is a row\n",
    "data=data.dropna(how='any')\n",
    "data=data.drop_duplicates()\n",
    "\n",
    "object_columns = data.select_dtypes(include=['object']).columns\n",
    "data[object_columns] = data[object_columns].astype(str)\n",
    "\n",
    "# g = graphistry.edges(data).materialize_nodes()\n",
    "g = graphistry.nodes(data)\n",
    "# g2 = g.featurize()\n",
    "# g2._clustersummary()\n",
    "\n",
    "g22 = g.umap()\n",
    "g22=g22.dbscan()#min_dist=0.1, min_samples=3) #82 groups\n",
    "g33 = g22.transform_dbscan(data,return_graph=False)\n",
    "df22=pd.DataFrame(g22.get_matrix())\n",
    "\n",
    "max_index_per_row = df22.idxmax(axis=1)\n",
    "top_33_indices = max_index_per_row.value_counts().index[:10]\n",
    "top_33_indices"
   ]
  },
  {
   "cell_type": "code",
   "execution_count": null,
   "metadata": {},
   "outputs": [],
   "source": [
    "g22.plot() # .encode_point_color('_dbscan',palette=[\"hotpink\", \"dodgerblue\"],as_continuous=True).plot()"
   ]
  }
 ],
 "metadata": {
  "kernelspec": {
   "display_name": "mypy3",
   "language": "python",
   "name": "python3"
  },
  "language_info": {
   "codemirror_mode": {
    "name": "ipython",
    "version": 3
   },
   "file_extension": ".py",
   "mimetype": "text/x-python",
   "name": "python",
   "nbconvert_exporter": "python",
   "pygments_lexer": "ipython3",
   "version": "3.12.2"
  }
 },
 "nbformat": 4,
 "nbformat_minor": 2
}
