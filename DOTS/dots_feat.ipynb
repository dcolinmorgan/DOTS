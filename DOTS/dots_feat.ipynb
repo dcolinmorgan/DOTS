{
 "cells": [
  {
   "cell_type": "markdown",
   "metadata": {},
   "source": [
    "## part 1"
   ]
  },
  {
   "cell_type": "code",
   "execution_count": null,
   "metadata": {},
   "outputs": [],
   "source": [
    "from bs4 import BeautifulSoup\n",
    "import numpy as np\n",
    "# import concurrent.futures\n",
    "# from tqdm import tqdm\n",
    "from sklearn.metrics.pairwise import cosine_similarity\n",
    "from sklearn.feature_extraction.text import CountVectorizer\n",
    "from transformers import AutoModel, AutoTokenizer\n",
    "import torch, spacy,nltk,subprocess, json, requests,string,csv\n",
    "\n",
    "model_name = \"distilroberta-base\"\n",
    "model = AutoModel.from_pretrained(model_name)\n",
    "tokenizer = AutoTokenizer.from_pretrained(model_name)\n",
    "# !python -m spacy download en_core_web_sm\n",
    "nlp = spacy.load('en_core_web_sm')\n",
    "n_gram_range = (1, 2)\n",
    "stop_words = \"english\"\n",
    "embeddings=[]\n",
    "\n",
    "# device = torch.device(\"cuda\" if torch.cuda.is_available() else \"cpu\")\n",
    "# model.to(device)\n",
    "\n",
    "import nltk, string, numpy as np\n",
    "# nltk.download('punkt')"
   ]
  },
  {
   "cell_type": "code",
   "execution_count": null,
   "metadata": {},
   "outputs": [],
   "source": [
    "def get_npr_news(p):\n",
    "    # Send a GET request to the NPR API\n",
    "    r = requests.get(\"http://api.npr.org/query?apiKey=npr_key\", params=p)\n",
    "\n",
    "    # Parse the XML response to get the story URLs\n",
    "    root = ET.fromstring(r.content)\n",
    "    story_urls = [story.find('link').text for story in root.iter('story')]\n",
    "\n",
    "    # For each story URL, send a GET request to get the HTML content\n",
    "    full_stories = []\n",
    "    for url in story_urls:\n",
    "        response = requests.get(url)\n",
    "        soup = BeautifulSoup(response.text, 'html.parser')\n",
    "\n",
    "        # Find the main content of the story. This will depend on the structure of the webpage.\n",
    "        # Here, we're assuming that the main content is in a <p> tag. You might need to adjust this depending on the webpage structure.\n",
    "        story = soup.find_all('p')\n",
    "\n",
    "        # Extract the text from the story\n",
    "        full_story = ' '.join(p.text for p in story)\n",
    "        full_stories.append(full_story)\n",
    "    return full_stories\n"
   ]
  },
  {
   "cell_type": "code",
   "execution_count": null,
   "metadata": {},
   "outputs": [],
   "source": [
    "def chunk_text(text, max_len):\n",
    "    # Tokenize the text into tokens\n",
    "    tokens = nltk.word_tokenize(text)\n",
    "\n",
    "    # Calculate the number of chunks and the size of the final chunk\n",
    "    num_chunks = len(tokens) // max_len\n",
    "    final_chunk_size = len(tokens) % max_len\n",
    "\n",
    "    # If the final chunk is too small, distribute its tokens among the other chunks\n",
    "    if final_chunk_size < max_len / 2:\n",
    "        num_chunks += 1\n",
    "        chunk_sizes = [len(tokens) // num_chunks + (1 if i < len(tokens) % num_chunks else 0) for i in range(num_chunks)]\n",
    "        chunks = [tokens[sum(chunk_sizes[:i]):sum(chunk_sizes[:i+1])] for i in range(num_chunks)]\n",
    "    else:\n",
    "        chunks = [tokens[i:i + max_len] for i in range(0, len(tokens), max_len)]\n",
    "\n",
    "    return chunks\n"
   ]
  },
  {
   "cell_type": "code",
   "execution_count": null,
   "metadata": {},
   "outputs": [],
   "source": [
    "# from torch.utils.data import DataLoader\n",
    "import spacy\n",
    "from sklearn.metrics.pairwise import cosine_similarity\n",
    "from sklearn.feature_extraction.text import CountVectorizer\n",
    "from transformers import AutoModel, AutoTokenizer\n",
    "import torch\n",
    "\n",
    "def featurize_stories(text, max_len, top_k):\n",
    "    # Extract candidate words/phrases\n",
    "    count = CountVectorizer(ngram_range=n_gram_range, stop_words=stop_words).fit([text])\n",
    "    all_candidates = count.get_feature_names_out()\n",
    "    doc = nlp(text)\n",
    "    noun_phrases = set(chunk.text.strip().lower() for chunk in doc.noun_chunks)\n",
    "    nouns = set()\n",
    "    for token in doc:\n",
    "        if token.pos_ == \"NOUN\":\n",
    "            nouns.add(token.text)\n",
    "\n",
    "    all_nouns = nouns.union(noun_phrases)\n",
    "    candidates = list(filter(lambda candidate: candidate in all_nouns, all_candidates))\n",
    "    candidate_tokens = tokenizer(candidates, padding=True, return_tensors=\"pt\")\n",
    "    # candidate_tokens = {k: v.to(device) for k, v in (candidate_tokens).items()}\n",
    "    candidate_embeddings = model(**candidate_tokens)[\"pooler_output\"]\n",
    "    candidate_embeddings = candidate_embeddings.detach()#.to_numpy()\n",
    "\n",
    "    # words = nltk.word_tokenize(text)\n",
    "    # chunks = [words[i:i + 512] for i in range(0, len(words), 512)]\n",
    "    chunks = chunk_text(text, max_len)  # use this to chunk better and use less padding thus less memory but also less affect from averging\n",
    "\n",
    "    for chunk in chunks:\n",
    "        text_tokens = tokenizer(chunk, padding=True, return_tensors=\"pt\")\n",
    "        text_tokens = {k: v.to(device) for k, v in (text_tokens).items()}\n",
    "        text_embedding = model(**text_tokens)[\"pooler_output\"]\n",
    "        text_embedding = text_embedding.detach()#.to_numpy()\n",
    "        embeddings.append(text_embedding)\n",
    "    max_emb_shape = max(embedding.shape[0] for embedding in embeddings)\n",
    "    padded_embeddings = [np.pad(embedding.cpu(), ((0, max_emb_shape - embedding.shape[0]), (0, 0))) for embedding in embeddings]\n",
    "    avg_embedding = np.min(padded_embeddings, axis=0)\n",
    "    distances = cosine_similarity(avg_embedding, candidate_embeddings.cpu())\n",
    "    torch.cuda.empty_cache()\n",
    "    return [candidates[index] for index in distances.argsort()[0][::-1][-top_k:]]\n",
    "\n"
   ]
  },
  {
   "cell_type": "code",
   "execution_count": null,
   "metadata": {},
   "outputs": [],
   "source": [
    "import pandas as pd\n",
    "# data=pd.read_csv('/content/drive/MyDrive/consult/Louie_disaster_tweets.csv',header=None)\n",
    "data=pd.read_csv('florida-hurricane-tweet.csv')"
   ]
  },
  {
   "cell_type": "code",
   "execution_count": null,
   "metadata": {},
   "outputs": [],
   "source": [
    "data.to_parquet('8.5k_florida_tweets.parquet')"
   ]
  },
  {
   "cell_type": "code",
   "execution_count": null,
   "metadata": {},
   "outputs": [],
   "source": [
    "df = pd.read_csv('/content/drive/MyDrive/consult/florida-hurricane-tweet_features.txt',sep='\\t')"
   ]
  },
  {
   "cell_type": "code",
   "execution_count": null,
   "metadata": {},
   "outputs": [],
   "source": [
    "rank_articles=[]\n",
    "from tqdm import tqdm\n",
    "for i in tqdm(range(len(df),len(data['text']))):\n",
    "    try:\n",
    "        cc=featurize_stories(data['text'][i], max_len=512, top_k=4)\n",
    "        # print(cc)\n",
    "        rank_articles.append(cc)\n",
    "    except IndexError:\n",
    "        pass"
   ]
  },
  {
   "cell_type": "code",
   "execution_count": null,
   "metadata": {},
   "outputs": [],
   "source": [
    "flattened_list = [item for sublist in rank_articles for item in sublist]\n",
    "from collections import Counter\n",
    "counter = Counter(flattened_list)\n",
    "df = pd.DataFrame.from_dict(counter, orient='index', columns=['Count'])\n",
    "\n",
    "df = df.sort_values(by='Count',ascending=False)\n",
    "df.to_csv('/content/drive/MyDrive/consult/florida-hurricane-tweet_features2.txt',sep='\\t')\n",
    "print(len(df))\n",
    "# df[:25]"
   ]
  },
  {
   "cell_type": "code",
   "execution_count": null,
   "metadata": {},
   "outputs": [],
   "source": [
    "filtered_list = [sublist for sublist in rank_articles if any('fire'.lower() in s.lower() for s in sublist)]\n",
    "filtered_list"
   ]
  },
  {
   "cell_type": "code",
   "execution_count": null,
   "metadata": {},
   "outputs": [],
   "source": [
    "import pandas as pd\n",
    "df = pd.read_csv('florida-hurricane-tweet_features.txt',sep='\\t')\n",
    "df2=pd.read_csv('florida-hurricane-tweet_features2.txt',sep='\\t')\n",
    "df=pd.concat([df,df2])\n",
    "print(df['Unnamed: 0'])\n",
    "df = df.groupby('Unnamed: 0').sum().sort_values(by='Count',ascending=False)\n",
    "df=df[df['Count']>int(np.round(len(df)*.001))]"
   ]
  },
  {
   "cell_type": "code",
   "execution_count": null,
   "metadata": {},
   "outputs": [],
   "source": [
    "import spacy\n",
    "\n",
    "nlp = spacy.load('en_core_web_sm')\n",
    "\n",
    "# nouns = ['apple', 'John', 'London', 'dog', 'Mary', 'Paris', 'banana']\n",
    "nouns= df.reset_index()['Unnamed: 0'].to_list()\n",
    "doc = nlp(' '.join(nouns))\n",
    "\n",
    "proper_nouns = [token.text for token in doc if token.pos_ == 'PROPN']\n",
    "\n",
    "print(proper_nouns)"
   ]
  },
  {
   "cell_type": "code",
   "execution_count": null,
   "metadata": {},
   "outputs": [],
   "source": [
    "print(len(proper_nouns))\n",
    "proper_nouns"
   ]
  },
  {
   "cell_type": "code",
   "execution_count": null,
   "metadata": {},
   "outputs": [],
   "source": [
    "len(nouns)"
   ]
  },
  {
   "cell_type": "code",
   "execution_count": null,
   "metadata": {},
   "outputs": [],
   "source": [
    "i=['Iceland', '16-01-2024', ['Lava from a volcanic eruption in southwestern Iceland has streamed into a nearby town, engulfing homes and forcing the evacuation of local residents.\\n', 'The Icelandic Meteorological Office said the eruption began just before 8:00 a.m. local time Sunday about a half mile from the town of Grindavík after a series of intense earthquakes.\\n', 'A second fissure opened after noon Sunday and sent lava flows into the town, officials said.\\n', 'Iceland\\'s president, Guðni Th. Jóhannesson, said in an address to the nation on Sunday that a \"daunting period of upheaval\" had begun for those in the Reykjanes peninsula.\\n', '\"We continue to hope for as good an outcome as possible, in the face of these tremendous forces of nature,\" he said.\\n', 'This is the second time in a month that a volcano has erupted just outside Grindavík, a coastal town about 25 miles from the Icelandic capital of Reykjavík.\\n', 'An eruption on December 18 sent lava spewing into the air, but residents had already been told to leave due to heightened seismic activity.\\n', \"Iceland's government said Sunday that Grindavík had been evacuated early that morning and that the eruption isn't expected to reach other populated areas.\\n\", 'So far no flights have been disrupted, and officials are monitoring threats to infrastructure. At least three homes have either burned down or been overtaken by lava, according to the Icelandic broadcaster RUV.\\n', \"The government also said the eruption doesn't present a threat to life.\\n\", 'But in his speech, Jóhannesson offered his sympathy to the loved ones of Lúðvík Pétursson, a man who went missing in a work accident in Grindavík last week.\\n', \"According to Sky News, the 50-year-old Pétursson was filling crevasses formed by volcanic activity and earthquakes when he fell in a crack that had opened after last month's eruption.\\n\", 'Iceland is a hotspot for seismic activity, with 32 active volcanoes. A volcano erupts roughly every five years in the country, though eruptions have occurred more frequently recently. \\n', ' Copyright 2024 NPR. To see more, visit https://www.npr.org.  ', '\\n'], None, None, None]"
   ]
  },
  {
   "cell_type": "markdown",
   "metadata": {},
   "source": [
    "## part 2"
   ]
  },
  {
   "cell_type": "code",
   "execution_count": null,
   "metadata": {},
   "outputs": [],
   "source": [
    "import argparse, signal,datetime,subprocess,json,os\n",
    "from dotenv import load_dotenv\n",
    "parser = argparse.ArgumentParser(description='Process OS data for dynamic features.')\n",
    "parser.add_argument('-n', type=int, default=10, help='Number of data items to get')\n",
    "parser.add_argument('-f', type=int, default=3, help='Number of features per item to get')\n",
    "parser.add_argument('-o', type=str, default='dots_feats.csv', help='Output file name')\n",
    "parser.add_argument('-p', type=int, default=1, help='Parallelize requests')\n",
    "# parser.add_argument('-s', type=datetime, default=20230101, help='start date')\n",
    "# parser.add_argument('-e', type=datetime, default=20231231, help='end date')\n",
    "args, unknown = parser.parse_known_args()\n",
    "load_dotenv()"
   ]
  },
  {
   "cell_type": "code",
   "execution_count": null,
   "metadata": {},
   "outputs": [],
   "source": [
    "from dots_feat import get_OS_data\n",
    "dd=get_OS_data(10)\n",
    "dd"
   ]
  },
  {
   "cell_type": "code",
   "execution_count": null,
   "metadata": {},
   "outputs": [],
   "source": [
    "os_url=([os.environ['OS_TOKEN']])\n",
    "n=10\n",
    "bash_command = f\"\"\"\n",
    "curl -X GET \"{os_url}/emergency-management-news/_search?scroll=1m\" -H 'Content-Type: application/json' -d '{{\n",
    "\"_source\": [\"metadata.GDELT_DATE\", \"metadata.page_title\",\"metadata.DocumentIdentifier\", \"metadata.Organizations\",\"metadata.Persons\",\"metadata.Themes\",\"metadata.text\", \"metadata.Locations\"],\n",
    "    \"size\": {n},\n",
    "    \"query\": {{\n",
    "        \"bool\": {{\n",
    "            \"must\": [\n",
    "                {{\"match_all\": {{}}}}\n",
    "            ]\n",
    "        }}\n",
    "    }}\n",
    "}}'\n",
    "\"\"\"\n",
    "process = subprocess.run(bash_command, shell=True, capture_output=True, text=True)\n",
    "output = process.stdout\n",
    "data = json.loads(output)\n",
    "data"
   ]
  },
  {
   "cell_type": "code",
   "execution_count": null,
   "metadata": {},
   "outputs": [],
   "source": [
    "output"
   ]
  },
  {
   "cell_type": "code",
   "execution_count": null,
   "metadata": {},
   "outputs": [],
   "source": [
    "# data = json.loads(\"input/feat_input.json\")\n",
    "with open(\"input/feat_input.json\", 'r') as f:\n",
    "    data = json.load(f)\n",
    "data['_scroll_id']"
   ]
  },
  {
   "cell_type": "code",
   "execution_count": null,
   "metadata": {},
   "outputs": [],
   "source": [
    "len(data['hits']['hits'])"
   ]
  },
  {
   "cell_type": "code",
   "execution_count": null,
   "metadata": {},
   "outputs": [],
   "source": [
    "# Keep track of the scroll ID\n",
    "scroll_id = response['_scroll_id']\n",
    "es = OpenSearch([os.environ['OS_TOKEN']])\n",
    "# Keep scrolling until no more results\n",
    "while len(response['hits']['hits']):\n",
    "    # print(response['hits']['hits'])  # process results\n",
    "\n",
    "    response = es.scroll(\n",
    "        scroll_id=scroll_id,\n",
    "        scroll='1m'  # length of time to keep the scroll window open\n",
    "    )\n",
    "\n",
    "    # Update the scroll ID\n",
    "    scroll_id = response['_scroll_id']\n"
   ]
  },
  {
   "cell_type": "code",
   "execution_count": null,
   "metadata": {},
   "outputs": [],
   "source": [
    "from dots_feat import featurize_stories, process_data, get_OS_data, process_hit\n",
    "data = get_OS_data(10)\n",
    "data['hits']['hits']"
   ]
  },
  {
   "cell_type": "code",
   "execution_count": null,
   "metadata": {},
   "outputs": [],
   "source": [
    "import sys,os,argparse,datetime\n",
    "sys.argv = ['dots_feat.py', '-n', '10', '-f', '3', '-o', 'dots_feats.csv', '-p', '1']#, '-s', '20230101', '-e', '20231231']\n",
    "parser = argparse.ArgumentParser(description='Process OS data for dynamic features.')\n",
    "parser.add_argument('-n', type=int, default=10, help='Number of data items to get')\n",
    "parser.add_argument('-f', type=int, default=3, help='Number of features per item to get')\n",
    "parser.add_argument('-o', type=str, default='dots_feats.csv', help='Output file name')\n",
    "parser.add_argument('-p', type=int, default=1, help='Parallelize requests')\n",
    "# parser.add_argument('-s', type=datetime.date, default=datetime.datetime.strptime(20230101), help='start date')\n",
    "# parser.add_argument('-e', type=datetime.date, default=datetime.datetime.strptime(20231231), help='end date')\n",
    "args, unknown = parser.parse_known_args()\n",
    "\n",
    "from dots.dots_feat import featurize_stories, process_data, get_OS_data, process_hit"
   ]
  },
  {
   "cell_type": "code",
   "execution_count": null,
   "metadata": {},
   "outputs": [],
   "source": [
    "import dots"
   ]
  },
  {
   "cell_type": "code",
   "execution_count": null,
   "metadata": {},
   "outputs": [],
   "source": [
    "s=\"20230101\"\n",
    "e=\"20231231\"\n",
    "\n",
    "s_date = datetime.datetime.strptime(s, \"%Y%m%d\")\n",
    "e_date = datetime.datetime.strptime(e, \"%Y%m%d\")\n",
    "\n",
    "# Convert datetime objects to ISO 8601 format\n",
    "s_iso = s_date.isoformat() + \"Z\"\n",
    "e_iso = e_date.isoformat() + \"Z\""
   ]
  },
  {
   "cell_type": "code",
   "execution_count": null,
   "metadata": {},
   "outputs": [],
   "source": [
    "[s_iso,e_iso]"
   ]
  },
  {
   "cell_type": "code",
   "execution_count": null,
   "metadata": {},
   "outputs": [],
   "source": [
    "def get_OS_data(n=args.n):\n",
    "    bash_command = f\"\"\"\n",
    "    curl -X GET \"{os_url}\" -H 'Content-Type: application/json' -d '{{\n",
    "\"_source\": [\"metadata.GDELT_DATE\", \"metadata.page_title\",\"metadata.DocumentIdentifier\", \"metadata.Organizations\",\"metadata.Persons\",\"metadata.Themes\",\"metadata.text\", \"metadata.Locations\"],\n",
    "        \"size\": {n},\n",
    "        \"query\": {{\n",
    "            \"bool\": {{\n",
    "                \"must\": [\n",
    "                    {{\"match_all\": {{}}}},\n",
    "                ]\n",
    "            }}\n",
    "        }}\n",
    "    }}'\n",
    "    \"\"\"\n",
    "    process = subprocess.run(bash_command, shell=True, capture_output=True, text=True)\n",
    "    output = process.stdout\n",
    "    data = json.loads(output)\n",
    "    return data"
   ]
  },
  {
   "cell_type": "code",
   "execution_count": null,
   "metadata": {},
   "outputs": [],
   "source": [
    "data = get_OS_data(10)\n",
    "data"
   ]
  },
  {
   "cell_type": "code",
   "execution_count": null,
   "metadata": {},
   "outputs": [],
   "source": [
    "data = get_OS_data(10)"
   ]
  },
  {
   "cell_type": "code",
   "execution_count": null,
   "metadata": {},
   "outputs": [],
   "source": [
    "data = get_OS_data(10)\n",
    "hits = data['hits']['hits']\n",
    "hit = hits[1]\n",
    "hit['_source']\n",
    "\n",
    "from datetime import datetime\n",
    "source = hit['_source']\n",
    "date = datetime.strptime(source['metadata']['GDELT_DATE'], \"%Y%m%d%H%M%S\")\n",
    "loc = source['metadata']['Locations']\n",
    "# ex = None #source['metadata']['Extras']\n",
    "title = source['metadata']['page_title']\n",
    "url = source['metadata']['DocumentIdentifier']"
   ]
  },
  {
   "cell_type": "code",
   "execution_count": null,
   "metadata": {},
   "outputs": [],
   "source": [
    "s = source['metadata']['Locations']\n",
    "\n",
    "s = s.replace(\"'\", '\"')  # json requires double quotes for keys and string values\n",
    "list_of_dicts = json.loads(s)\n",
    "\n",
    "\n",
    "# location_full_name = source['metadata']['Locations']['Location FullName']\n",
    "\n",
    "for dict in list_of_dicts:\n",
    "    if 'Location FullName' in dict:\n",
    "        print(dict['Location FullName'])"
   ]
  },
  {
   "cell_type": "code",
   "execution_count": null,
   "metadata": {},
   "outputs": [],
   "source": [
    "data"
   ]
  },
  {
   "cell_type": "code",
   "execution_count": null,
   "metadata": {},
   "outputs": [],
   "source": [
    "\n",
    "def process_data_fast(data):\n",
    "    articles = []\n",
    "    hits = data['hits']['hits']\n",
    "\n",
    "    with concurrent.futures.ThreadPoolExecutor() as executor:\n",
    "        results = list(executor.map(process_hit, hits))\n",
    "\n",
    "    with open('output.csv', 'w') as file:\n",
    "        writer = csv.writer(file)\n",
    "        for text, soup,date,loc,title in results:\n",
    "            articles.append([loc,loc,loc,date,title,title,text])\n",
    "            # articles.append(text)\n",
    "\n",
    "            writer.writerow([loc,loc,loc,date,title,title,text]) # force location into top feature, also assume title has important info\n",
    "            # writer.writerow(text)\n",
    "            writer.writerow(['\\n'])\n",
    "\n",
    "    with open('output.html', 'w') as file:\n",
    "        file.write(str(results[-1][1]))  # Write the soup of the last hit\n",
    "\n",
    "    # with open('output.csv', 'w') as file:\n",
    "    #     file.write(str(results[-1][0]))  # Write the z of the last hit\n",
    "\n",
    "    return articles\n"
   ]
  },
  {
   "cell_type": "code",
   "execution_count": null,
   "metadata": {},
   "outputs": [],
   "source": [
    "from dots_feat import process_data_fast"
   ]
  },
  {
   "cell_type": "code",
   "execution_count": null,
   "metadata": {},
   "outputs": [],
   "source": [
    "def process_hits(hit):\n",
    "    source = hit['_source']\n",
    "    GDELT_DATE = source['metadata']['GDELT_DATE']\n",
    "    page_title = source['metadata']['page_title']\n",
    "    url = source['metadata']['DocumentIdentifier']\n",
    "    \n",
    "    response = requests.get(url)\n",
    "    if response.status_code != 200:\n",
    "        print(f\"Failed to get {url}\")\n",
    "        return z\n",
    "    soup = BeautifulSoup(response.text, 'html.parser')\n",
    "    paragraphs = soup.find_all(['p','div','a'])\n",
    "    if not paragraphs:\n",
    "        print(f\"No <p> tags in {url}\")\n",
    "        return z\n",
    "\n",
    "    for p in paragraphs:\n",
    "        z.append(p.get_text())\n",
    "    return z\n",
    "\n",
    "with open('output.html', 'w') as file:\n",
    "    file.write(str(soup))\n",
    "    \n",
    "with open('output.csv', 'w') as file:\n",
    "    file.write(str(z))\n",
    "\n",
    "# return articles\n",
    "articles=[]\n",
    "hits = data['hits']['hits']\n",
    "for hit in hits:\n",
    "    z=process_hits(hit)\n",
    "    articles.append(z)\n",
    "    "
   ]
  },
  {
   "cell_type": "code",
   "execution_count": null,
   "metadata": {},
   "outputs": [],
   "source": [
    "\n",
    "def process_hit(hit):\n",
    "    z = []\n",
    "    source = hit['_source']\n",
    "    GDELT_DATE = source['metadata']['GDELT_DATE']\n",
    "    page_title = source['metadata']['page_title']\n",
    "    location = source['metadata'][\"Locations\"]\n",
    "    extras = source['metadata'][\"Extras\"]\n",
    "    url = source['metadata']['DocumentIdentifier']\n",
    "\n",
    "    response = requests.get(url)\n",
    "    soup = BeautifulSoup(response.text, 'html.parser')\n",
    "    for p in soup.find_all('p'):\n",
    "        z.append(p.get_text())\n",
    "    z.append(page_title)\n",
    "    return z, soup\n",
    "\n",
    "def process_data_fast(data):\n",
    "    articles = []\n",
    "    hits = data['hits']['hits']\n",
    "\n",
    "    with concurrent.futures.ThreadPoolExecutor() as executor:\n",
    "        results = list(executor.map(process_hit, hits))\n",
    "\n",
    "    with open('output.csv', 'w') as file:\n",
    "        writer = csv.writer(file)\n",
    "        for z, soup in results:\n",
    "            writer.writerow(z)\n",
    "            writer.writerow(['\\n'])\n",
    "            articles.append(z)\n",
    "\n",
    "    with open('output.html', 'w') as file:\n",
    "        file.write(str(results[-1][1]))  # Write the soup of the last hit\n",
    "\n",
    "    # with open('output.csv', 'w') as file:\n",
    "    #     file.write(str(results[-1][0]))  # Write the z of the last hit\n",
    "\n",
    "    return articles\n"
   ]
  },
  {
   "cell_type": "code",
   "execution_count": 45,
   "metadata": {},
   "outputs": [
    {
     "data": {
      "text/plain": [
       "[{'_index': 'emergency-management-news',\n",
       "  '_id': '3f96a00d-a933-454c-8e33-ee270e59bab7',\n",
       "  '_score': 1.0,\n",
       "  '_source': {'metadata': {'GDELT_DATE': '20240116194500',\n",
       "    'page_title': \"Live updates | US bombs Yemen's Houthis, and Israeli strikes kill 158 in Gaza\",\n",
       "    'Persons': \"['wael dahdouh', 'khan younis', 'abdulrahman al', 'antonio guterres', 'khaled al-balshy', 'mohammed deif', 'yehya sinwar', 'sheikh mohammed', 'marwan issa', 'lolita baldor', 'beit lahia']\",\n",
       "    'Organizations': \"['white house', 'palestinian health ministry', 'european union', 'associated press', 'al jazeera', 'world economic forum in davos', 'island policy ministry', 'health ministry', 'united nations']\",\n",
       "    'Locations': \"[{'Location Type': 'COUNTRY', 'Location FullName': 'Yemen', 'Location CountryCode': 'YM', 'Location ADM1Code': 'YM', 'Location Latitude': 15.5, 'Location Longitude': 47.5, 'Location FeatureID': 'YM'}, {'Location Type': 'COUNTRY', 'Location FullName': 'Gaza Strip', 'Location CountryCode': 'GZ', 'Location ADM1Code': 'GZ', 'Location Latitude': 31.425074, 'Location Longitude': 34.373398, 'Location FeatureID': 'GZ'}, {'Location Type': 'COUNTRY', 'Location FullName': 'North Korea', 'Location CountryCode': 'KN', 'Location ADM1Code': 'KN', 'Location Latitude': 40.0, 'Location Longitude': 127.0, 'Location FeatureID': 'KN'}, {'Location Type': 'USCITY', 'Location FullName': 'Washington, Washington, United States', 'Location CountryCode': 'US', 'Location ADM1Code': 'USDC', 'Location Latitude': 38.8951, 'Location Longitude': -77.0364, 'Location FeatureID': '531871'}, {'Location Type': 'WORLDCITY', 'Location FullName': 'Jerusalem, Israel (General), Israel', 'Location CountryCode': 'IS', 'Location ADM1Code': 'IS00', 'Location Latitude': 31.7667, 'Location Longitude': 35.2333, 'Location FeatureID': '-797092'}, {'Location Type': 'WORLDCITY', 'Location FullName': 'Bureij, ?Ims, Syria', 'Location CountryCode': 'SY', 'Location ADM1Code': 'SY11', 'Location Latitude': 34.2574, 'Location Longitude': 36.7711, 'Location FeatureID': '-2537954'}, {'Location Type': 'COUNTRY', 'Location FullName': 'Iran', 'Location CountryCode': 'IR', 'Location ADM1Code': 'IR', 'Location Latitude': 32.0, 'Location Longitude': 53.0, 'Location FeatureID': 'IR'}, {'Location Type': 'USCITY', 'Location FullName': 'White House, District Of Columbia, United States', 'Location CountryCode': 'US', 'Location ADM1Code': 'USDC', 'Location Latitude': 38.8951, 'Location Longitude': -77.0364, 'Location FeatureID': '531871'}, {'Location Type': 'COUNTRY', 'Location FullName': 'Syria', 'Location CountryCode': 'SY', 'Location ADM1Code': 'SY', 'Location Latitude': 35.0, 'Location Longitude': 38.0, 'Location FeatureID': 'SY'}, {'Location Type': 'COUNTRY', 'Location FullName': 'United Kingdom', 'Location CountryCode': 'UK', 'Location ADM1Code': 'UK', 'Location Latitude': 54.0, 'Location Longitude': -4.0, 'Location FeatureID': 'UK'}, {'Location Type': 'WORLDCITY', 'Location FullName': 'Brussels, Bruxelles-Capitale, Belgium', 'Location CountryCode': 'BE', 'Location ADM1Code': 'BE11', 'Location Latitude': 50.8333, 'Location Longitude': 4.33333, 'Location FeatureID': '-1955538'}, {'Location Type': 'COUNTRY', 'Location FullName': 'Iraq', 'Location CountryCode': 'IZ', 'Location ADM1Code': 'IZ', 'Location Latitude': 33.0, 'Location Longitude': 44.0, 'Location FeatureID': 'IZ'}, {'Location Type': 'COUNTRY', 'Location FullName': 'Russia', 'Location CountryCode': 'RS', 'Location ADM1Code': 'RS', 'Location Latitude': 60.0, 'Location Longitude': 100.0, 'Location FeatureID': 'RS'}, {'Location Type': 'WORLDCITY', 'Location FullName': 'Zografia, Perifereia Thessalias, Greece', 'Location CountryCode': 'GR', 'Location ADM1Code': 'GR64', 'Location Latitude': 39.4281, 'Location Longitude': 21.7408, 'Location FeatureID': '-831374'}, {'Location Type': 'WORLDCITY', 'Location FullName': 'Cairo, Al Qahirah, Egypt', 'Location CountryCode': 'EG', 'Location ADM1Code': 'EG11', 'Location Latitude': 30.05, 'Location Longitude': 31.25, 'Location FeatureID': '-290692'}, {'Location Type': 'WORLDCITY', 'Location FullName': 'Davos, Switzerland (General), Switzerland', 'Location CountryCode': 'SZ', 'Location ADM1Code': 'SZ00', 'Location Latitude': 46.8167, 'Location Longitude': 9.83333, 'Location FeatureID': '-2551751'}, {'Location Type': 'COUNTRY', 'Location FullName': 'China', 'Location CountryCode': 'CH', 'Location ADM1Code': 'CH', 'Location Latitude': 35.0, 'Location Longitude': 105.0, 'Location FeatureID': 'CH'}, {'Location Type': 'COUNTRY', 'Location FullName': 'West Bank', 'Location CountryCode': 'WE', 'Location ADM1Code': 'WE', 'Location Latitude': 31.666667, 'Location Longitude': 35.25, 'Location FeatureID': 'WE'}, {'Location Type': 'COUNTRY', 'Location FullName': 'Greece', 'Location CountryCode': 'GR', 'Location ADM1Code': 'GR', 'Location Latitude': 39.0, 'Location Longitude': 22.0, 'Location FeatureID': 'GR'}, {'Location Type': 'COUNTRY', 'Location FullName': 'United States', 'Location CountryCode': 'US', 'Location ADM1Code': 'US', 'Location Latitude': 39.828175, 'Location Longitude': -98.5795, 'Location FeatureID': 'US'}, {'Location Type': 'WORLDCITY', 'Location FullName': 'Red Sea, Djibouti (General), Djibouti', 'Location CountryCode': 'DJ', 'Location ADM1Code': 'DJ00', 'Location Latitude': 19.0, 'Location Longitude': 39.5, 'Location FeatureID': '-2037160'}, {'Location Type': 'WORLDCITY', 'Location FullName': 'Gaza, Israel (General), Israel', 'Location CountryCode': 'IS', 'Location ADM1Code': 'IS00', 'Location Latitude': 31.4167, 'Location Longitude': 34.3333, 'Location FeatureID': '-797156'}, {'Location Type': 'COUNTRY', 'Location FullName': 'Switzerland', 'Location CountryCode': 'SZ', 'Location ADM1Code': 'SZ', 'Location Latitude': 47.0, 'Location Longitude': 8.0, 'Location FeatureID': 'SZ'}, {'Location Type': 'WORLDCITY', 'Location FullName': 'Suez Canal, As Suways, Egypt', 'Location CountryCode': 'EG', 'Location ADM1Code': 'EG15', 'Location Latitude': 29.9314, 'Location Longitude': 32.5628, 'Location FeatureID': '-303685'}, {'Location Type': 'COUNTRY', 'Location FullName': 'Egypt', 'Location CountryCode': 'EG', 'Location ADM1Code': 'EG', 'Location Latitude': 27.0, 'Location Longitude': 30.0, 'Location FeatureID': 'EG'}, {'Location Type': 'COUNTRY', 'Location FullName': 'Israel', 'Location CountryCode': 'IS', 'Location ADM1Code': 'IS', 'Location Latitude': 31.5, 'Location Longitude': 34.75, 'Location FeatureID': 'IS'}, {'Location Type': 'COUNTRY', 'Location FullName': 'Qatar', 'Location CountryCode': 'QA', 'Location ADM1Code': 'QA', 'Location Latitude': 25.5, 'Location Longitude': 51.25, 'Location FeatureID': 'QA'}]\",\n",
       "    'Themes': \"['TAX_ETHNICITY', 'TAX_ETHNICITY_HOUTHIS', 'UNGP_FORESTS_RIVERS_OCEANS', 'ARMEDCONFLICT', 'EPU_CATS_NATIONAL_SECURITY', 'TAX_TERROR_GROUP', 'TAX_TERROR_GROUP_HAMAS', 'TAX_POLITICAL_PARTY', 'TAX_POLITICAL_PARTY_HAMAS', 'KILL', 'CRISISLEX_T03_DEAD', 'CRISISLEX_CRISISLEXREC', 'CRISISLEX_T08_MISSINGFOUNDTRAPPEDPEOPLE', 'MEDICAL', 'SOC_POINTSOFINTEREST', 'SOC_POINTSOFINTEREST_HOSPITALS', 'GENERAL_HEALTH', 'CRISISLEX_T01_CAUTION_ADVICE', 'SELF_IDENTIFIED_HUMANITARIAN_CRISIS', 'AFFECT', 'DISPLACED', 'FOOD_SECURITY', 'TAX_DISEASE', 'TAX_DISEASE_STARVATION', 'KIDNAP', 'TERROR', 'TAX_ETHNICITY_PALESTINIANS', 'RELEASE_HOSTAGE', 'TAX_FNCACT', 'TAX_FNCACT_CHIEFS', 'NATURAL_DISASTER', 'NATURAL_DISASTER_FAMINE', 'TAX_ETHNICITY_IRANIAN', 'TAX_ETHNICITY_HOUTHI', 'REBELS', 'WB_2433_CONFLICT_AND_VIOLENCE', 'WB_2451_REBELS_GUERRILLAS_AND_INSURGENTS', 'WB_2432_FRAGILITY_CONFLICT_AND_VIOLENCE', 'WB_2445_NON_STATE_SECURITY_ACTORS', 'CRISISLEX_C07_SAFETY', 'UNGP_CRIME_VIOLENCE', 'TAX_FNCACT_OFFICIAL', 'TAX_ETHNICITY_AMERICAN', 'CLAIM_CREDIT', 'ACT_MAKESTATEMENT', 'WOUND', 'CRISISLEX_C03_WELLBEING_HEALTH', 'CRISISLEX_T02_INJURED', 'MARITIME_INCIDENT', 'MARITIME', 'MANMADE_DISASTER_IMPLIED', 'TAX_ETHNICITY_GREEK', 'TAX_WORLDLANGUAGES', 'TAX_WORLDLANGUAGES_GREEK', 'USPEC_POLICY1', 'EPU_POLICY', 'EPU_POLICY_POLICY', 'USPEC_UNCERTAINTY1', 'TAX_FNCACT_WRITER', 'TAX_FNCACT_CHIEF', 'TAX_FNCACT_CHILDREN', 'TAX_FNCACT_VETERAN', 'MEDIA_MSM', 'TAX_FNCACT_JOURNALIST', 'TAX_FNCACT_CAMERAMAN', 'WB_1428_INJURY', 'WB_1406_DISEASES', 'WB_621_HEALTH_NUTRITION_AND_POPULATION', 'WB_1427_NON_COMMUNICABLE_DISEASE_AND_INJURY', 'TAX_FNCACT_LEADER', 'SOC_POINTSOFINTEREST_HEADQUARTERS', 'UNREST_BELLIGERENT', 'BAN', 'EPU_ECONOMY', 'EPU_ECONOMY_HISTORIC', 'TAX_MILITARY_TITLE', 'TAX_MILITARY_TITLE_COMMANDER', 'TAX_FNCACT_COMMANDER', 'TAX_FNCACT_DEPUTY', 'TAX_FNCACT_MINISTER', 'LEADER', 'TAX_FNCACT_PRIME_MINISTER', 'TAX_FNCACT_FOREIGN_MINISTER', 'SECURITY_SERVICES', 'WB_2468_CONVENTIONAL_WAR', 'WB_2462_POLITICAL_VIOLENCE_AND_WAR', 'TAX_ETHNICITY_PALESTINIAN', 'GENERAL_GOVERNMENT', 'EPU_POLICY_GOVERNMENT', 'TAX_FNCACT_POLITICIANS', 'ENV_WATERWAYS', 'WB_1805_WATERWAYS', 'WB_135_TRANSPORT', 'WB_1803_TRANSPORT_INFRASTRUCTURE', 'PROTEST', 'WB_137_WATER', 'WB_988_LEVEES', 'WB_141_WATER_RESOURCES_MANAGEMENT', 'WB_1000_WATER_MANAGEMENT_STRUCTURES', 'MILITARY', 'TAX_FNCACT_TROOPS', 'EPU_POLICY_WHITE_HOUSE', 'TAX_FNCACT_LEADERS', 'TAX_WORLDREPTILES', 'TAX_WORLDREPTILES_SNAKE', 'TAX_FNCACT_WOMAN', 'TAX_FNCACT_MAN', 'ARREST', 'EPU_CATS_MIGRATION_FEAR_FEAR', 'VIOLENT_UNREST', 'BORDER', 'TAX_MILITARY_TITLE_SOLDIER', 'TAX_FNCACT_SOLDIER', 'WB_1331_HEALTH_TECHNOLOGIES', 'WB_2453_ORGANIZED_CRIME', 'WB_1350_PHARMACEUTICALS', 'WB_2456_DRUGS_AND_NARCOTICS', 'SMUGGLING', 'EVACUATION', 'CRISISLEX_T09_DISPLACEDRELOCATEDEVACUATED', 'SOC_POINTSOFINTEREST_HOSPITAL', 'SOC_GENERALCRIME', 'CEASEFIRE', 'TAX_DISEASE_DISEASE', 'UNGP_HEALTHCARE', 'WB_635_PUBLIC_HEALTH', 'WB_2165_HEALTH_EMERGENCIES', 'WB_2166_HEALTH_EMERGENCY_PREPAREDNESS_AND_DISASTER_RESPONSE', 'WB_2167_PANDEMICS', 'LEGISLATION', 'EPU_POLICY_LAW', 'WB_2203_HUMAN_RIGHTS', 'WB_2514_HUMAN_RIGHTS_NORMS_AND_MECHANISMS', 'WB_2516_HUMANITARIAN_LAW', 'TAX_FNCACT_OFFICIALS', 'TAX_FNCACT_WORKERS', 'AID_HUMANITARIAN', 'TAX_FNCACT_STAFFERS', '']\",\n",
       "    'text': \"Live updates | US bombs Yemen's Houthis, and Israeli strikes kill 158 in Gaza\",\n",
       "    'DocumentIdentifier': 'https://www.bdtonline.com/news/nation_world/live-updates-us-bombs-yemens-houthis-and-israeli-strikes-kill-158-in-gaza/article_c436331e-3b63-5d3d-bf4f-7f9b7f66f9dc.html'}}},\n",
       " {'_index': 'emergency-management-news',\n",
       "  '_id': 'f0ef4a6a-0998-47c7-b22f-b9f0bf509b50',\n",
       "  '_score': 1.0,\n",
       "  '_source': {'metadata': {'GDELT_DATE': '20240116194500',\n",
       "    'page_title': 'After over 100 days of war, Palestinians fight in hard-hit areas of Gaza and fire rockets at Israel',\n",
       "    'Persons': \"['khan younis', 'antonio guterres', 'faris abu abbas', 'adel hana', 'mahmoud abdel-ghani', 'oded balilty', 'deir al balah', 'ayoub saad']\",\n",
       "    'Organizations': \"['gaza health ministry', 'united states', 'writer jon gambrell']\",\n",
       "    'Locations': \"[{'Location Type': 'COUNTRY', 'Location FullName': 'Gaza Strip', 'Location CountryCode': 'GZ', 'Location ADM1Code': 'GZ', 'Location Latitude': 31.425074, 'Location Longitude': 34.373398, 'Location FeatureID': 'GZ'}, {'Location Type': 'COUNTRY', 'Location FullName': 'Yemen', 'Location CountryCode': 'YM', 'Location ADM1Code': 'YM', 'Location Latitude': 15.5, 'Location Longitude': 47.5, 'Location FeatureID': 'YM'}, {'Location Type': 'WORLDCITY', 'Location FullName': 'Beit Lahiya, Gaza Strip (General), Gaza Strip', 'Location CountryCode': 'GZ', 'Location ADM1Code': 'GZ00', 'Location Latitude': 31.5464, 'Location Longitude': 34.4951, 'Location FeatureID': '-797143'}, {'Location Type': 'COUNTRY', 'Location FullName': 'Iran', 'Location CountryCode': 'IR', 'Location ADM1Code': 'IR', 'Location Latitude': 32.0, 'Location Longitude': 53.0, 'Location FeatureID': 'IR'}, {'Location Type': 'WORLDCITY', 'Location FullName': 'Shifa, Ha?Afon, Israel', 'Location CountryCode': 'IS', 'Location ADM1Code': 'IS03', 'Location Latitude': 32.45, 'Location Longitude': 35.5333, 'Location FeatureID': '-781443'}, {'Location Type': 'COUNTRY', 'Location FullName': 'Syria', 'Location CountryCode': 'SY', 'Location ADM1Code': 'SY', 'Location Latitude': 35.0, 'Location Longitude': 38.0, 'Location FeatureID': 'SY'}, {'Location Type': 'WORLDCITY', 'Location FullName': 'Bureij, ?Ims, Syria', 'Location CountryCode': 'SY', 'Location ADM1Code': 'SY11', 'Location Latitude': 34.2574, 'Location Longitude': 36.7711, 'Location FeatureID': '-2537954'}, {'Location Type': 'WORLDCITY', 'Location FullName': 'Dubai, Dubayy, United Arab Emirates', 'Location CountryCode': 'AE', 'Location ADM1Code': 'AE03', 'Location Latitude': 25.2522, 'Location Longitude': 55.28, 'Location FeatureID': '-782831'}, {'Location Type': 'WORLDCITY', 'Location FullName': 'Tel Aviv, Tel Aviv, Israel', 'Location CountryCode': 'IS', 'Location ADM1Code': 'IS05', 'Location Latitude': 32.0667, 'Location Longitude': 34.7667, 'Location FeatureID': '-781545'}, {'Location Type': 'COUNTRY', 'Location FullName': 'Iraq', 'Location CountryCode': 'IZ', 'Location ADM1Code': 'IZ', 'Location Latitude': 33.0, 'Location Longitude': 44.0, 'Location FeatureID': 'IZ'}, {'Location Type': 'WORLDCITY', 'Location FullName': 'Rafah, Gaza Strip (General), Gaza Strip', 'Location CountryCode': 'GZ', 'Location ADM1Code': 'GZ00', 'Location Latitude': 31.3292, 'Location Longitude': 34.2311, 'Location FeatureID': '10420173'}, {'Location Type': 'WORLDCITY', 'Location FullName': 'Cairo, Al Qahirah, Egypt', 'Location CountryCode': 'EG', 'Location ADM1Code': 'EG11', 'Location Latitude': 30.05, 'Location Longitude': 31.25, 'Location FeatureID': '-290692'}, {'Location Type': 'COUNTRY', 'Location FullName': 'Lebanon', 'Location CountryCode': 'LE', 'Location ADM1Code': 'LE', 'Location Latitude': 33.833333, 'Location Longitude': 35.833333, 'Location FeatureID': 'LE'}, {'Location Type': 'COUNTRY', 'Location FullName': 'United States', 'Location CountryCode': 'US', 'Location ADM1Code': 'US', 'Location Latitude': 39.828175, 'Location Longitude': -98.5795, 'Location FeatureID': 'US'}, {'Location Type': 'WORLDCITY', 'Location FullName': 'Baghdad, Baghdad, Iraq', 'Location CountryCode': 'IZ', 'Location ADM1Code': 'IZ07', 'Location Latitude': 33.3386, 'Location Longitude': 44.3939, 'Location FeatureID': '-3103581'}, {'Location Type': 'WORLDCITY', 'Location FullName': 'Beirut, Beyrouth, Lebanon', 'Location CountryCode': 'LE', 'Location ADM1Code': 'LE04', 'Location Latitude': 33.8719, 'Location Longitude': 35.5097, 'Location FeatureID': '-801546'}, {'Location Type': 'COUNTRY', 'Location FullName': 'West Bank', 'Location CountryCode': 'WE', 'Location ADM1Code': 'WE', 'Location Latitude': 31.666667, 'Location Longitude': 35.25, 'Location FeatureID': 'WE'}, {'Location Type': 'WORLDCITY', 'Location FullName': 'Gaza City, Israel (General), Israel', 'Location CountryCode': 'IS', 'Location ADM1Code': 'IS00', 'Location Latitude': 31.4167, 'Location Longitude': 34.3333, 'Location FeatureID': '-797156'}, {'Location Type': 'WORLDCITY', 'Location FullName': 'Gaza, Israel (General), Israel', 'Location CountryCode': 'IS', 'Location ADM1Code': 'IS00', 'Location Latitude': 31.4167, 'Location Longitude': 34.3333, 'Location FeatureID': '-797156'}, {'Location Type': 'COUNTRY', 'Location FullName': 'United Arab Emirates', 'Location CountryCode': 'AE', 'Location ADM1Code': 'AE', 'Location Latitude': 24.0, 'Location Longitude': 54.0, 'Location FeatureID': 'AE'}, {'Location Type': 'WORLDCITY', 'Location FullName': 'Red Sea, Djibouti (General), Djibouti', 'Location CountryCode': 'DJ', 'Location ADM1Code': 'DJ00', 'Location Latitude': 19.0, 'Location Longitude': 39.5, 'Location FeatureID': '-2037160'}, {'Location Type': 'WORLDCITY', 'Location FullName': 'Raanana, Hamerkaz, Israel', 'Location CountryCode': 'IS', 'Location ADM1Code': 'IS02', 'Location Latitude': 32.1808, 'Location Longitude': 34.8672, 'Location FeatureID': '-781127'}, {'Location Type': 'COUNTRY', 'Location FullName': 'Israel', 'Location CountryCode': 'IS', 'Location ADM1Code': 'IS', 'Location Latitude': 31.5, 'Location Longitude': 34.75, 'Location FeatureID': 'IS'}]\",\n",
       "    'Themes': \"['TAX_ETHNICITY', 'TAX_ETHNICITY_PALESTINIAN', 'TERROR', 'ARMEDCONFLICT', 'WB_137_WATER', 'WB_988_LEVEES', 'WB_141_WATER_RESOURCES_MANAGEMENT', 'WB_1000_WATER_MANAGEMENT_STRUCTURES', 'MANMADE_DISASTER_IMPLIED', 'TAX_TERROR_GROUP', 'TAX_TERROR_GROUP_HAMAS', 'TAX_POLITICAL_PARTY', 'TAX_POLITICAL_PARTY_HAMAS', 'KIDNAP', 'CRISISLEX_CRISISLEXREC', 'EPU_CATS_NATIONAL_SECURITY', 'SELF_IDENTIFIED_HUMANITARIAN_CRISIS', 'TAX_ETHNICITY_PALESTINIANS', 'FOOD_SECURITY', 'TAX_DISEASE', 'TAX_DISEASE_STARVATION', 'WB_2433_CONFLICT_AND_VIOLENCE', 'WB_2432_FRAGILITY_CONFLICT_AND_VIOLENCE', 'WB_698_TRADE', 'KILL', 'CEASEFIRE', 'RELEASE_HOSTAGE', 'TAX_FNCACT', 'TAX_FNCACT_SPY', 'SOC_POINTSOFINTEREST', 'SOC_POINTSOFINTEREST_HEADQUARTERS', 'CRISISLEX_T03_DEAD', 'TAX_FNCACT_AMBASSADOR', 'PROTEST', 'WB_2448_MILITIA', 'WB_2445_NON_STATE_SECURITY_ACTORS', 'TAX_FNCACT_LEADER', 'TAX_ETHNICITY_HOUTHI', 'REBELS', 'WB_2451_REBELS_GUERRILLAS_AND_INSURGENTS', 'CRISISLEX_C07_SAFETY', 'UNGP_FORESTS_RIVERS_OCEANS', 'TAX_FNCACT_OFFICIAL', 'MILITARY', 'TAX_FNCACT_NAVY', 'TAX_WORLDMAMMALS', 'TAX_WORLDMAMMALS_SEALS', 'AFFECT', 'MARITIME_INCIDENT', 'MARITIME', 'SECURITY_SERVICES', 'WB_2468_CONVENTIONAL_WAR', 'WB_2462_POLITICAL_VIOLENCE_AND_WAR', 'PUBLIC_TRANSPORT', 'TAX_FNCACT_POLICE', 'TAX_FNCACT_WOMAN', 'WOUND', 'CRISISLEX_T02_INJURED', 'ARREST', 'SOC_GENERALCRIME', 'TAX_TERROR_GROUP_HEZBOLLAH', 'TAX_POLITICAL_PARTY_HEZBOLLAH', 'BORDER', 'TAX_FNCACT_DEPUTY', 'EPU_POLICY', 'EPU_POLICY_POLITICAL', 'LEADER', 'TAX_FNCACT_POLITICAL_LEADER', 'EVACUATION', 'CRISISLEX_T01_CAUTION_ADVICE', 'CRISISLEX_T09_DISPLACEDRELOCATEDEVACUATED', 'GENERAL_HEALTH', 'MEDICAL', 'SOC_POINTSOFINTEREST_HOSPITAL', 'CRISISLEX_C03_WELLBEING_HEALTH', 'URBAN', 'TAX_FNCACT_OFFICIALS', 'REFUGEES', 'EPU_CATS_MIGRATION_FEAR_MIGRATION', 'SOC_REFUGEECAMP', 'SOC_POINTSOFINTEREST_REFUGEE_CAMPS', 'WB_2665_REFUGEE_RESETTLEMENT', 'WB_2470_PEACE_OPERATIONS_AND_CONFLICT_MANAGEMENT', 'WB_2480_POST_CONFLICT_RECONSTRUCTION', 'WB_2488_POPULATION_RESETTLEMENT', 'MEDIA_MSM', 'CRISISLEX_T08_MISSINGFOUNDTRAPPEDPEOPLE', 'SOC_POINTSOFINTEREST_HOSPITALS', 'TAX_FNCACT_WOMEN', 'NATURAL_DISASTER', 'NATURAL_DISASTER_FAMINE', 'TAX_DISEASE_DISEASE', 'WB_1406_DISEASES', 'WB_621_HEALTH_NUTRITION_AND_POPULATION', 'UNGP_HEALTHCARE', 'AID_HUMANITARIAN', 'TAX_FNCACT_STAFFERS', 'TAX_FNCACT_WORKERS', 'TAX_MILITARY_TITLE', 'TAX_MILITARY_TITLE_SOLDIERS', 'TAX_FNCACT_SOLDIERS', 'TAX_FNCACT_WRITER', 'TAX_ETHNICITY_ARAB', '']\",\n",
       "    'text': 'After over 100 days of war, Palestinians fight in hard-hit areas of Gaza and fire rockets at Israel',\n",
       "    'DocumentIdentifier': 'https://www.newsday.com/news/nation/israel-hamas-war-news-01-16-2024-v85820'}}},\n",
       " {'_index': 'emergency-management-news',\n",
       "  '_id': '01d60204-56c5-420a-878f-64eccc992258',\n",
       "  '_score': 1.0,\n",
       "  '_source': {'metadata': {'GDELT_DATE': '20240116194500',\n",
       "    'page_title': 'Residents Of Once-Lost Roman Estate Likely Watched Thousands Die In Ancient Cataclysm, Researchers Claim',\n",
       "    'Persons': \"['punta sarparella a bacoli', 'mariano nuzzo marianonuzzo']\",\n",
       "    'Organizations': 'nan',\n",
       "    'Locations': \"[{'Location Type': 'WORLDCITY', 'Location FullName': 'Miseno, Campania, Italy', 'Location CountryCode': 'IT', 'Location ADM1Code': 'IT04', 'Location Latitude': 40.7833, 'Location Longitude': 14.0833, 'Location FeatureID': '-121833'}, {'Location Type': 'COUNTRY', 'Location FullName': 'Italy', 'Location CountryCode': 'IT', 'Location ADM1Code': 'IT', 'Location Latitude': 42.833333, 'Location Longitude': 12.833333, 'Location FeatureID': 'IT'}]\",\n",
       "    'Themes': \"['TAX_ETHNICITY', 'TAX_ETHNICITY_ITALIAN', 'TAX_WORLDLANGUAGES', 'TAX_WORLDLANGUAGES_ITALIAN', 'TAX_ETHNICITY_ITALIANS', 'TAX_WORLDLANGUAGES_ITALIANS', 'EPU_CATS_MIGRATION_FEAR_FEAR', 'NATURAL_DISASTER', 'NATURAL_DISASTER_ERUPTION', 'NATURAL_DISASTER_PYROCLASTIC', 'TAX_WORLDMAMMALS', 'TAX_WORLDMAMMALS_HUMANS', 'TAX_FNCACT', 'TAX_FNCACT_ELDER', 'WB_1609_FOOD_AND_IN_KIND_TRANSFERS', 'WB_1620_ELDERLY', 'WB_1466_SOCIAL_ASSISTANCE', 'WB_1618_FOOD_DISTRIBUTION', 'WB_697_SOCIAL_PROTECTION_AND_LABOR', 'WB_1979_NATURAL_RESOURCE_MANAGEMENT', 'WB_435_AGRICULTURE_AND_FOOD_SECURITY', 'WB_1986_MOUNTAINS', 'KILL', 'CRISISLEX_CRISISLEXREC', 'NATURAL_DISASTER_NATURAL_DISASTERS', '']\",\n",
       "    'text': 'Residents Of Once-Lost Roman Estate Likely Watched Thousands Die In Ancient Cataclysm, Researchers Claim',\n",
       "    'DocumentIdentifier': 'https://dailycaller.com/2024/01/16/villa-naples-bacoli-sicily-italy-vesuvius-romans-pliny-the-elder-miseno-beach/'}}},\n",
       " {'_index': 'emergency-management-news',\n",
       "  '_id': 'e8c3a9ab-1c32-4e49-960b-fda28e139513',\n",
       "  '_score': 1.0,\n",
       "  '_source': {'metadata': {'GDELT_DATE': '20240116194500',\n",
       "    'page_title': 'Licensed firearm holder killed in Old Harbour identified',\n",
       "    'Persons': \"['rasbert turner', 'devon gallimore']\",\n",
       "    'Organizations': 'nan',\n",
       "    'Locations': \"[{'Location Type': 'WORLDSTATE', 'Location FullName': 'Clarendon, Clarendon, Jamaica', 'Location CountryCode': 'JM', 'Location ADM1Code': 'JM01', 'Location Latitude': 17.9833, 'Location Longitude': -77.3, 'Location FeatureID': '-3751340'}, {'Location Type': 'WORLDCITY', 'Location FullName': 'Old Harbour, Saint Catherine, Jamaica', 'Location CountryCode': 'JM', 'Location ADM1Code': 'JM10', 'Location Latitude': 17.9414, 'Location Longitude': -77.109, 'Location FeatureID': '-3753065'}]\",\n",
       "    'Themes': \"['SECURITY_SERVICES', 'TAX_FNCACT', 'TAX_FNCACT_POLICE', 'CRISISLEX_C07_SAFETY', 'TAX_WEAPONS', 'TAX_WEAPONS_FIREARM', 'KILL', 'CRISISLEX_CRISISLEXREC', 'CRISISLEX_T02_INJURED', 'CRISISLEX_T03_DEAD', 'CRISISLEX_T01_CAUTION_ADVICE', '']\",\n",
       "    'text': 'Licensed firearm holder killed in Old Harbour identified',\n",
       "    'DocumentIdentifier': 'https://jamaica-gleaner.com/article/news/20240116/licensed-firearm-holder-killed-old-harbour-identified'}}},\n",
       " {'_index': 'emergency-management-news',\n",
       "  '_id': '3babd011-e4be-413e-85c9-8111cb531599',\n",
       "  '_score': 1.0,\n",
       "  '_source': {'metadata': {'GDELT_DATE': '20240116194500',\n",
       "    'page_title': 'Snow drought over: NYC, DC blanketed by biggest storm in 2 years',\n",
       "    'Persons': \"['newark liberty', 'jacquelyn martin', 'john f kennedy']\",\n",
       "    'Organizations': \"['united states', 'national weather service']\",\n",
       "    'Locations': \"[{'Location Type': 'USCITY', 'Location FullName': 'Philadelphia, Pennsylvania, United States', 'Location CountryCode': 'US', 'Location ADM1Code': 'USPA', 'Location Latitude': 39.9523, 'Location Longitude': -75.1638, 'Location FeatureID': '1209052'}, {'Location Type': 'USSTATE', 'Location FullName': 'New York, United States', 'Location CountryCode': 'US', 'Location ADM1Code': 'USNY', 'Location Latitude': 42.1497, 'Location Longitude': -74.9384, 'Location FeatureID': 'NY'}, {'Location Type': 'USCITY', 'Location FullName': 'Washington Monument, District Of Columbia, United States', 'Location CountryCode': 'US', 'Location ADM1Code': 'USDC', 'Location Latitude': 38.8896, 'Location Longitude': -77.0353, 'Location FeatureID': '531850'}, {'Location Type': 'USCITY', 'Location FullName': 'Washington, Washington, United States', 'Location CountryCode': 'US', 'Location ADM1Code': 'USDC', 'Location Latitude': 38.8951, 'Location Longitude': -77.0364, 'Location FeatureID': '531871'}, {'Location Type': 'COUNTRY', 'Location FullName': 'United States', 'Location CountryCode': 'US', 'Location ADM1Code': 'US', 'Location Latitude': 39.828175, 'Location Longitude': -98.5795, 'Location FeatureID': 'US'}, {'Location Type': 'USCITY', 'Location FullName': 'Boston, Massachusetts, United States', 'Location CountryCode': 'US', 'Location ADM1Code': 'USMA', 'Location Latitude': 42.3584, 'Location Longitude': -71.0598, 'Location FeatureID': '617565'}]\",\n",
       "    'Themes': \"['DELAY', 'USPEC_UNCERTAINTY1', 'EDUCATION', 'SOC_POINTSOFINTEREST', 'SOC_POINTSOFINTEREST_SCHOOL', 'SOC_POINTSOFINTEREST_AIRPORTS', 'WB_135_TRANSPORT', 'WB_1803_TRANSPORT_INFRASTRUCTURE', 'WB_1804_AIRPORTS', 'SOC_POINTSOFINTEREST_SCHOOLS', 'CRISISLEX_C01_CHILDREN_AND_EDUCATION', 'NATURAL_DISASTER', 'NATURAL_DISASTER_WINTER_STORM', 'NATURAL_DISASTER_SNOWSTORM', 'WB_2141_EDUCATION_DISTRICTS', 'WB_1502_EDUCATIONAL_DECENTRALIZATION', 'WB_470_EDUCATION', 'WB_1497_EDUCATION_MANAGEMENT_AND_ADMINISTRATION', 'CRISISLEX_O01_WEATHER', '']\",\n",
       "    'text': 'Snow drought over: NYC, DC blanketed by biggest storm in 2 years',\n",
       "    'DocumentIdentifier': 'https://www.aol.com/snow-drought-over-nyc-dc-162942149.html'}}},\n",
       " {'_index': 'emergency-management-news',\n",
       "  '_id': '22bc6bf8-7231-44b4-9792-52dc5c99d3a1',\n",
       "  '_score': 1.0,\n",
       "  '_source': {'metadata': {'GDELT_DATE': '20240116194500',\n",
       "    'page_title': 'New Bedford Juvenile Arrested for Carrying Firearm and Ammunition',\n",
       "    'Persons': \"['kate robinson', 'ariel dorsey']\",\n",
       "    'Organizations': \"['southcoast most exciting police chases', 'crime intelligence bureau', 'bedford police']\",\n",
       "    'Locations': \"[{'Location Type': 'USCITY', 'Location FullName': 'New Bedford, Massachusetts, United States', 'Location CountryCode': 'US', 'Location ADM1Code': 'USMA', 'Location Latitude': 41.6362, 'Location Longitude': -70.9342, 'Location FeatureID': '613714'}, {'Location Type': 'USCITY', 'Location FullName': 'Bedford, Massachusetts, United States', 'Location CountryCode': 'US', 'Location ADM1Code': 'USMA', 'Location Latitude': 42.4907, 'Location Longitude': -71.2762, 'Location FeatureID': '611761'}, {'Location Type': 'USSTATE', 'Location FullName': 'Massachusetts, United States', 'Location CountryCode': 'US', 'Location ADM1Code': 'USMA', 'Location Latitude': 42.2373, 'Location Longitude': -71.5314, 'Location FeatureID': 'MA'}]\",\n",
       "    'Themes': \"['SECURITY_SERVICES', 'TAX_FNCACT', 'TAX_FNCACT_POLICE', 'CRISISLEX_C07_SAFETY', 'ARREST', 'SOC_GENERALCRIME', 'TAX_WEAPONS', 'TAX_WEAPONS_FIREARM', 'TAX_FNCACT_DETECTIVES', 'EPU_CATS_MIGRATION_FEAR_FEAR', 'ORGANIZED_CRIME', 'WB_2453_ORGANIZED_CRIME', 'WB_2433_CONFLICT_AND_VIOLENCE', 'WB_2432_FRAGILITY_CONFLICT_AND_VIOLENCE', 'SOC_SUSPICIOUSACTIVITY', 'TRAFFIC', 'MEDIA_MSM', 'CRISISLEX_CRISISLEXREC', 'TRIAL', 'TAX_WORLDLANGUAGES', 'TAX_WORLDLANGUAGES_MASSACHUSETTS', 'LEGISLATION', 'EPU_POLICY', 'EPU_POLICY_LAW', 'TAX_FNCACT_CRIMINAL', 'UNREST_SELF_IDENTIFIED_HATE_CRIME', 'USPEC_UNCERTAINTY1', '']\",\n",
       "    'text': 'New Bedford Juvenile Arrested for Carrying Firearm and Ammunition',\n",
       "    'DocumentIdentifier': 'https://fun107.com/new-bedford-juvenile-arrested/'}}},\n",
       " {'_index': 'emergency-management-news',\n",
       "  '_id': '532a781b-428e-4177-8e94-ba3337607514',\n",
       "  '_score': 1.0,\n",
       "  '_source': {'metadata': {'GDELT_DATE': '20240116194500',\n",
       "    'page_title': 'Fire Crews Attend To Extensive House Fire in North Clare',\n",
       "    'Persons': 'nan',\n",
       "    'Organizations': \"['national ambulance service']\",\n",
       "    'Locations': \"[{'Location Type': 'WORLDCITY', 'Location FullName': 'Corofin, Clare, Ireland', 'Location CountryCode': 'EI', 'Location ADM1Code': 'EI03', 'Location Latitude': 52.9478, 'Location Longitude': -9.06306, 'Location FeatureID': '-1502015'}]\",\n",
       "    'Themes': \"['CRISISLEX_T01_CAUTION_ADVICE', 'CRISISLEX_CRISISLEXREC', 'CRISISLEX_O02_RESPONSEAGENCIESATCRISIS', 'GENERAL_HEALTH', 'WB_635_PUBLIC_HEALTH', 'WB_2165_HEALTH_EMERGENCIES', 'WB_621_HEALTH_NUTRITION_AND_POPULATION', 'WB_1324_EMERGENCY_MEDICAL_SERVICES', 'MANMADE_DISASTER_IMPLIED', 'MEDICAL', 'CRISISLEX_C03_WELLBEING_HEALTH', 'DISASTER_FIRE', 'WB_137_WATER', 'MARITIME_INCIDENT', 'MARITIME', 'WB_1921_PRIVATE_SECTOR_DEVELOPMENT', 'WB_405_BUSINESS_CLIMATE', 'WB_2531_INSPECTIONS_LICENSING_AND_PERMITS', 'WB_2530_BUSINESS_ENVIRONMENT', 'EDUCATION', 'SOC_POINTSOFINTEREST', 'SOC_POINTSOFINTEREST_SCHOOL', '']\",\n",
       "    'text': 'Fire Crews Attend To Extensive House Fire in North Clare',\n",
       "    'DocumentIdentifier': 'https://www.clare.fm/news/fire-crews-attend-extensive-house-fire-north-clare/'}}},\n",
       " {'_index': 'emergency-management-news',\n",
       "  '_id': '83a3b71b-0dfe-4487-adb9-e64654a7c947',\n",
       "  '_score': 1.0,\n",
       "  '_source': {'metadata': {'GDELT_DATE': '20240116194500',\n",
       "    'page_title': 'Earthquake near Gilroy, Watsonville &#x2013; NBC Bay Area',\n",
       "    'Persons': 'nan',\n",
       "    'Organizations': \"['united states geological']\",\n",
       "    'Locations': \"[{'Location Type': 'COUNTRY', 'Location FullName': 'United States', 'Location CountryCode': 'US', 'Location ADM1Code': 'US', 'Location Latitude': 39.828175, 'Location Longitude': -98.5795, 'Location FeatureID': 'US'}]\",\n",
       "    'Themes': \"['NATURAL_DISASTER', 'NATURAL_DISASTER_EARTHQUAKE', 'CRISISLEX_T01_CAUTION_ADVICE', 'WB_507_ENERGY_AND_EXTRACTIVES', 'WB_895_MINING_SYSTEMS', 'WB_896_GEOLOGICAL_MAPPING_AND_DATABASES', 'WB_2286_GEOLOGICAL_SURVEY', '']\",\n",
       "    'text': 'Earthquake near Gilroy, Watsonville &#x2013; NBC Bay Area',\n",
       "    'DocumentIdentifier': 'https://www.nbcbayarea.com/news/local/earthquakes/earthquake-near-gilroy-watsonville/3424192/'}}},\n",
       " {'_index': 'emergency-management-news',\n",
       "  '_id': '875ad3ed-61c2-4c23-af4a-7164524bdd37',\n",
       "  '_score': 1.0,\n",
       "  '_source': {'metadata': {'GDELT_DATE': '20240116161500',\n",
       "    'page_title': 'Syrians lose WFP lifeline as US slashes funding',\n",
       "    'Persons': \"['bab al-rai', 'mohamad katoub', 'saleem algerk', 'bab al-salama']\",\n",
       "    'Organizations': \"['un security council', 'united states', 'bureau of humanitarian assistance', 'united nations development programme', 'united states agency for international aid', 'world food program', 'human rights watch']\",\n",
       "    'Locations': \"[{'Location Type': 'COUNTRY', 'Location FullName': 'Syria', 'Location CountryCode': 'SY', 'Location ADM1Code': 'SY', 'Location Latitude': 35.0, 'Location Longitude': 38.0, 'Location FeatureID': 'SY'}, {'Location Type': 'COUNTRY', 'Location FullName': 'Germany', 'Location CountryCode': 'GM', 'Location ADM1Code': 'GM', 'Location Latitude': 51.5, 'Location Longitude': 10.5, 'Location FeatureID': 'GM'}, {'Location Type': 'WORLDCITY', 'Location FullName': 'Bab Al-Hawa, Al ?Asakah, Syria', 'Location CountryCode': 'SY', 'Location ADM1Code': 'SY01', 'Location Latitude': 37.1981, 'Location Longitude': 42.1189, 'Location FeatureID': '6027432'}, {'Location Type': 'COUNTRY', 'Location FullName': 'United States', 'Location CountryCode': 'US', 'Location ADM1Code': 'US', 'Location Latitude': 39.828175, 'Location Longitude': -98.5795, 'Location FeatureID': 'US'}, {'Location Type': 'COUNTRY', 'Location FullName': 'Saudi Arabia', 'Location CountryCode': 'SA', 'Location ADM1Code': 'SA', 'Location Latitude': 25.0, 'Location Longitude': 45.0, 'Location FeatureID': 'SA'}, {'Location Type': 'WORLDCITY', 'Location FullName': 'Gaza, Israel (General), Israel', 'Location CountryCode': 'IS', 'Location ADM1Code': 'IS00', 'Location Latitude': 31.4167, 'Location Longitude': 34.3333, 'Location FeatureID': '-797156'}, {'Location Type': 'WORLDCITY', 'Location FullName': 'Idlib, Idlib, Syria', 'Location CountryCode': 'SY', 'Location ADM1Code': 'SY12', 'Location Latitude': 35.9306, 'Location Longitude': 36.6339, 'Location FeatureID': '-2542538'}, {'Location Type': 'WORLDCITY', 'Location FullName': 'Ankara, Ankara, Turkey', 'Location CountryCode': 'TU', 'Location ADM1Code': 'TU68', 'Location Latitude': 39.9272, 'Location Longitude': 32.8644, 'Location FeatureID': '-735338'}, {'Location Type': 'WORLDCITY', 'Location FullName': 'Damascus, Dimashq, Syria', 'Location CountryCode': 'SY', 'Location ADM1Code': 'SY13', 'Location Latitude': 33.5, 'Location Longitude': 36.3, 'Location FeatureID': '-2541260'}, {'Location Type': 'COUNTRY', 'Location FullName': 'Israel', 'Location CountryCode': 'IS', 'Location ADM1Code': 'IS', 'Location Latitude': 31.5, 'Location Longitude': 34.75, 'Location FeatureID': 'IS'}, {'Location Type': 'COUNTRY', 'Location FullName': 'Turkey', 'Location CountryCode': 'TU', 'Location ADM1Code': 'TU', 'Location Latitude': 39.059012, 'Location Longitude': 34.911546, 'Location FeatureID': 'TU'}, {'Location Type': 'COUNTRY', 'Location FullName': 'Russia', 'Location CountryCode': 'RS', 'Location ADM1Code': 'RS', 'Location Latitude': 60.0, 'Location Longitude': 100.0, 'Location FeatureID': 'RS'}]\",\n",
       "    'Themes': \"['ECON_DEVELOPMENTORGS', 'ECON_DEVELOPMENTORGS_WORLD_FOOD_PROGRAM', 'CRISISLEX_C04_LOGISTICS_TRANSPORT', 'USPEC_POLICY1', 'EPU_POLICY', 'EPU_POLICY_BUDGET', 'GENERAL_GOVERNMENT', 'EPU_POLICY_GOVERNMENT', 'ECON_DEVELOPMENTORGS_UNITED_STATES_AGENCY_FOR_INTERNATIONAL', 'TAX_AIDGROUPS', 'TAX_AIDGROUPS_UNITED_STATES_AGENCY_FOR_INTERNATIONAL', 'ECON_DEVELOPMENTORGS_USAID', 'AID_HUMANITARIAN', 'CRISISLEX_CRISISLEXREC', 'SELF_IDENTIFIED_HUMANITARIAN_CRISIS', 'ARMEDCONFLICT', 'EPU_CATS_NATIONAL_SECURITY', 'TAX_ETHNICITY', 'TAX_ETHNICITY_PALESTINIAN', 'TAX_RELIGION', 'TAX_RELIGION_ISLAMIC', 'TAX_TERROR_GROUP', 'TAX_TERROR_GROUP_ISLAMIC_STATE', 'RELEASE_HOSTAGE', 'WB_678_DIGITAL_GOVERNMENT', 'WB_694_BROADCAST_AND_MEDIA', 'WB_133_INFORMATION_AND_COMMUNICATION_TECHNOLOGIES', 'TAX_FNCACT', 'TAX_FNCACT_COORDINATOR', 'POVERTY', 'WB_695_POVERTY', 'AFFECT', 'DISPLACED', 'CRISISLEX_T11_UPDATESSYMPATHY', 'TAX_AIDGROUPS_MERCY_CORPS', 'TAX_FNCACT_DIRECTOR', 'FOOD_SECURITY', 'NATURAL_DISASTER', 'NATURAL_DISASTER_EARTHQUAKE', 'CRISISLEX_T01_CAUTION_ADVICE', 'CRISISLEX_T04_INFRASTRUCTURE', 'TAX_DISEASE', 'TAX_DISEASE_HEPATITIS', 'HEALTH_SEXTRANSDISEASE', 'UNGP_HEALTHCARE', 'TAX_DISEASE_HEPATITIS_B', 'ECON_DEBT', 'WB_1104_MACROECONOMIC_VULNERABILITY_AND_DEBT', 'WB_450_DEBT', 'REFUGEES', 'TAX_FOODSTAPLES', 'TAX_FOODSTAPLES_BREAD', 'UNGP_CRIME_VIOLENCE', 'UNGP_AFFORDABLE_NUTRITIOUS_FOOD', 'BORDER', 'CRISISLEX_C07_SAFETY', 'WB_670_ICT_SECURITY', 'WB_2372_AUTHENTICATION_AND_AUTHORIZATION', 'TAX_WORLDLANGUAGES', 'TAX_WORLDLANGUAGES_RUSSIA', 'VETO', 'USPEC_UNCERTAINTY1', 'TAX_ETHNICITY_RUSSIAN', 'TAX_WORLDLANGUAGES_RUSSIAN', 'CLOSURE', 'EPU_UNCERTAINTY', 'UNGP_FORESTS_RIVERS_OCEANS', 'TAX_WORLDMAMMALS', 'TAX_WORLDMAMMALS_HUMAN', 'SELF_IDENTIFIED_HUMAN_RIGHTS', 'WB_2203_HUMAN_RIGHTS', 'WB_2432_FRAGILITY_CONFLICT_AND_VIOLENCE', 'TAX_AIDGROUPS_HUMAN_RIGHTS_WATCH', 'WB_137_WATER', 'SANITATION', 'WB_139_SANITATION_AND_WASTEWATER', 'WB_2000_SANITATION', 'WB_1199_WATER_SUPPLY_AND_SANITATION', 'CRISISLEX_C06_WATER_SANITATION', 'TAX_DISEASE_CHOLERA', 'WB_635_PUBLIC_HEALTH', 'WB_2165_HEALTH_EMERGENCIES', 'WB_2166_HEALTH_EMERGENCY_PREPAREDNESS_AND_DISASTER_RESPONSE', 'WB_621_HEALTH_NUTRITION_AND_POPULATION', 'WB_2167_PANDEMICS', 'TAX_DISEASE_OUTBREAK', 'WB_2433_CONFLICT_AND_VIOLENCE', 'EPU_POLICY_POLITICAL', 'TERROR', 'UNREST_BELLIGERENT', 'CRISISLEX_O02_RESPONSEAGENCIESATCRISIS', 'TAX_AIDGROUPS_UNITED_NATIONS_DEVELOPMENT_PROGRAMME', 'TAX_FNCACT_WORKER', 'ENV_CLIMATECHANGE', 'WB_567_CLIMATE_CHANGE', 'UNGP_CLIMATE_CHANGE_ACTION', 'WB_574_CLIMATE_CHANGE_ADAPTATION', 'AGRICULTURE', '']\",\n",
       "    'text': 'Syrians lose WFP lifeline as US slashes funding',\n",
       "    'DocumentIdentifier': 'https://syriadirect.org/syrians-lose-wfp-lifeline-as-us-slashes-funding/'}}},\n",
       " {'_index': 'emergency-management-news',\n",
       "  '_id': 'a20f64a6-2d24-4631-8850-390dd5f32c68',\n",
       "  '_score': 1.0,\n",
       "  '_source': {'metadata': {'GDELT_DATE': '20240116161500',\n",
       "    'page_title': 'An Icelandic town is evacuated after a volcanic eruption sends lava into nearby homes',\n",
       "    'Persons': 'nan',\n",
       "    'Organizations': \"['icelandic meteorological office']\",\n",
       "    'Locations': \"[{'Location Type': 'COUNTRY', 'Location FullName': 'Iceland', 'Location CountryCode': 'IC', 'Location ADM1Code': 'IC', 'Location Latitude': 65.0, 'Location Longitude': -18.0, 'Location FeatureID': 'IC'}, {'Location Type': 'WORLDSTATE', 'Location FullName': 'Reykjanes, SuðEs, Iceland', 'Location CountryCode': 'IC', 'Location ADM1Code': 'IC43', 'Location Latitude': 63.9167, 'Location Longitude': -22.25, 'Location FeatureID': '6261163'}]\",\n",
       "    'Themes': \"['NATURAL_DISASTER', 'NATURAL_DISASTER_LAVA', 'NATURAL_DISASTER_VOLCANIC', 'NATURAL_DISASTER_ERUPTION', 'EVACUATION', 'CRISISLEX_T01_CAUTION_ADVICE', 'CRISISLEX_T09_DISPLACEDRELOCATEDEVACUATED', 'TAX_WORLDLANGUAGES', 'TAX_WORLDLANGUAGES_ICELANDIC', 'NATURAL_DISASTER_EARTHQUAKES', 'TAX_FNCACT', 'TAX_FNCACT_OFFICIALS', 'LEADER', 'TAX_FNCACT_PRESIDENT', 'USPEC_POLITICS_GENERAL1', 'UNGP_FORESTS_RIVERS_OCEANS', 'NATURAL_DISASTER_VOLCANO', 'MANMADE_DISASTER_IMPLIED', 'CRISISLEX_CRISISLEXREC', 'GENERAL_GOVERNMENT', 'EPU_POLICY', 'EPU_POLICY_GOVERNMENT', 'AFFECT', 'CRISISLEX_C04_LOGISTICS_TRANSPORT', 'UNREST_BELLIGERENT', 'SECURITY_SERVICES', 'TAX_FNCACT_POLICE', 'CRISISLEX_C07_SAFETY', 'CRISISLEX_T11_UPDATESSYMPATHY', 'TAX_FNCACT_MAN', 'NATURAL_DISASTER_VOLCANOES', 'NATURAL_DISASTER_ERUPTIONS', 'EPU_CATS_REGULATION', '']\",\n",
       "    'text': 'An Icelandic town is evacuated after a volcanic eruption sends lava into nearby homes',\n",
       "    'DocumentIdentifier': 'https://www.wgbh.org/news/international-news/2024-01-16/an-icelandic-town-is-evacuated-after-a-volcanic-eruption-sends-lava-into-nearby-homes'}}}]"
      ]
     },
     "execution_count": 45,
     "metadata": {},
     "output_type": "execute_result"
    }
   ],
   "source": [
    "\n",
    "data['hits']['hits']"
   ]
  },
  {
   "cell_type": "code",
   "execution_count": 53,
   "metadata": {},
   "outputs": [],
   "source": [
    "data = get_OS_data(10)\n",
    "# articles = process_data(data)\n",
    "hits = data['hits']['hits']"
   ]
  },
  {
   "cell_type": "code",
   "execution_count": 59,
   "metadata": {},
   "outputs": [],
   "source": [
    "import concurrent.futures\n",
    "results=[]\n",
    "e = concurrent.futures.ThreadPoolExecutor()\n",
    "    # try:\n",
    "future = e.submit(process_hit, hits[1])\n",
    "result = future.result(timeout=5)  # Set timeout for 5 seconds\n",
    "results.append(result)"
   ]
  },
  {
   "cell_type": "code",
   "execution_count": 61,
   "metadata": {},
   "outputs": [
    {
     "name": "stderr",
     "output_type": "stream",
     "text": [
      "attempting to grab text from url: 100%|██████████| 10/10 [00:00<00:00, 184771.10it/s]\n"
     ]
    }
   ],
   "source": []
  },
  {
   "cell_type": "code",
   "execution_count": 32,
   "metadata": {},
   "outputs": [
    {
     "data": {
      "text/plain": [
       "{'metadata': {'GDELT_DATE': '20240116194500',\n",
       "  'page_title': 'After over 100 days of war, Palestinians fight in hard-hit areas of Gaza and fire rockets at Israel',\n",
       "  'Persons': \"['khan younis', 'antonio guterres', 'faris abu abbas', 'adel hana', 'mahmoud abdel-ghani', 'oded balilty', 'deir al balah', 'ayoub saad']\",\n",
       "  'Organizations': \"['gaza health ministry', 'united states', 'writer jon gambrell']\",\n",
       "  'Locations': \"[{'Location Type': 'COUNTRY', 'Location FullName': 'Gaza Strip', 'Location CountryCode': 'GZ', 'Location ADM1Code': 'GZ', 'Location Latitude': 31.425074, 'Location Longitude': 34.373398, 'Location FeatureID': 'GZ'}, {'Location Type': 'COUNTRY', 'Location FullName': 'Yemen', 'Location CountryCode': 'YM', 'Location ADM1Code': 'YM', 'Location Latitude': 15.5, 'Location Longitude': 47.5, 'Location FeatureID': 'YM'}, {'Location Type': 'WORLDCITY', 'Location FullName': 'Beit Lahiya, Gaza Strip (General), Gaza Strip', 'Location CountryCode': 'GZ', 'Location ADM1Code': 'GZ00', 'Location Latitude': 31.5464, 'Location Longitude': 34.4951, 'Location FeatureID': '-797143'}, {'Location Type': 'COUNTRY', 'Location FullName': 'Iran', 'Location CountryCode': 'IR', 'Location ADM1Code': 'IR', 'Location Latitude': 32.0, 'Location Longitude': 53.0, 'Location FeatureID': 'IR'}, {'Location Type': 'WORLDCITY', 'Location FullName': 'Shifa, Ha?Afon, Israel', 'Location CountryCode': 'IS', 'Location ADM1Code': 'IS03', 'Location Latitude': 32.45, 'Location Longitude': 35.5333, 'Location FeatureID': '-781443'}, {'Location Type': 'COUNTRY', 'Location FullName': 'Syria', 'Location CountryCode': 'SY', 'Location ADM1Code': 'SY', 'Location Latitude': 35.0, 'Location Longitude': 38.0, 'Location FeatureID': 'SY'}, {'Location Type': 'WORLDCITY', 'Location FullName': 'Bureij, ?Ims, Syria', 'Location CountryCode': 'SY', 'Location ADM1Code': 'SY11', 'Location Latitude': 34.2574, 'Location Longitude': 36.7711, 'Location FeatureID': '-2537954'}, {'Location Type': 'WORLDCITY', 'Location FullName': 'Dubai, Dubayy, United Arab Emirates', 'Location CountryCode': 'AE', 'Location ADM1Code': 'AE03', 'Location Latitude': 25.2522, 'Location Longitude': 55.28, 'Location FeatureID': '-782831'}, {'Location Type': 'WORLDCITY', 'Location FullName': 'Tel Aviv, Tel Aviv, Israel', 'Location CountryCode': 'IS', 'Location ADM1Code': 'IS05', 'Location Latitude': 32.0667, 'Location Longitude': 34.7667, 'Location FeatureID': '-781545'}, {'Location Type': 'COUNTRY', 'Location FullName': 'Iraq', 'Location CountryCode': 'IZ', 'Location ADM1Code': 'IZ', 'Location Latitude': 33.0, 'Location Longitude': 44.0, 'Location FeatureID': 'IZ'}, {'Location Type': 'WORLDCITY', 'Location FullName': 'Rafah, Gaza Strip (General), Gaza Strip', 'Location CountryCode': 'GZ', 'Location ADM1Code': 'GZ00', 'Location Latitude': 31.3292, 'Location Longitude': 34.2311, 'Location FeatureID': '10420173'}, {'Location Type': 'WORLDCITY', 'Location FullName': 'Cairo, Al Qahirah, Egypt', 'Location CountryCode': 'EG', 'Location ADM1Code': 'EG11', 'Location Latitude': 30.05, 'Location Longitude': 31.25, 'Location FeatureID': '-290692'}, {'Location Type': 'COUNTRY', 'Location FullName': 'Lebanon', 'Location CountryCode': 'LE', 'Location ADM1Code': 'LE', 'Location Latitude': 33.833333, 'Location Longitude': 35.833333, 'Location FeatureID': 'LE'}, {'Location Type': 'COUNTRY', 'Location FullName': 'United States', 'Location CountryCode': 'US', 'Location ADM1Code': 'US', 'Location Latitude': 39.828175, 'Location Longitude': -98.5795, 'Location FeatureID': 'US'}, {'Location Type': 'WORLDCITY', 'Location FullName': 'Baghdad, Baghdad, Iraq', 'Location CountryCode': 'IZ', 'Location ADM1Code': 'IZ07', 'Location Latitude': 33.3386, 'Location Longitude': 44.3939, 'Location FeatureID': '-3103581'}, {'Location Type': 'WORLDCITY', 'Location FullName': 'Beirut, Beyrouth, Lebanon', 'Location CountryCode': 'LE', 'Location ADM1Code': 'LE04', 'Location Latitude': 33.8719, 'Location Longitude': 35.5097, 'Location FeatureID': '-801546'}, {'Location Type': 'COUNTRY', 'Location FullName': 'West Bank', 'Location CountryCode': 'WE', 'Location ADM1Code': 'WE', 'Location Latitude': 31.666667, 'Location Longitude': 35.25, 'Location FeatureID': 'WE'}, {'Location Type': 'WORLDCITY', 'Location FullName': 'Gaza City, Israel (General), Israel', 'Location CountryCode': 'IS', 'Location ADM1Code': 'IS00', 'Location Latitude': 31.4167, 'Location Longitude': 34.3333, 'Location FeatureID': '-797156'}, {'Location Type': 'WORLDCITY', 'Location FullName': 'Gaza, Israel (General), Israel', 'Location CountryCode': 'IS', 'Location ADM1Code': 'IS00', 'Location Latitude': 31.4167, 'Location Longitude': 34.3333, 'Location FeatureID': '-797156'}, {'Location Type': 'COUNTRY', 'Location FullName': 'United Arab Emirates', 'Location CountryCode': 'AE', 'Location ADM1Code': 'AE', 'Location Latitude': 24.0, 'Location Longitude': 54.0, 'Location FeatureID': 'AE'}, {'Location Type': 'WORLDCITY', 'Location FullName': 'Red Sea, Djibouti (General), Djibouti', 'Location CountryCode': 'DJ', 'Location ADM1Code': 'DJ00', 'Location Latitude': 19.0, 'Location Longitude': 39.5, 'Location FeatureID': '-2037160'}, {'Location Type': 'WORLDCITY', 'Location FullName': 'Raanana, Hamerkaz, Israel', 'Location CountryCode': 'IS', 'Location ADM1Code': 'IS02', 'Location Latitude': 32.1808, 'Location Longitude': 34.8672, 'Location FeatureID': '-781127'}, {'Location Type': 'COUNTRY', 'Location FullName': 'Israel', 'Location CountryCode': 'IS', 'Location ADM1Code': 'IS', 'Location Latitude': 31.5, 'Location Longitude': 34.75, 'Location FeatureID': 'IS'}]\",\n",
       "  'Themes': \"['TAX_ETHNICITY', 'TAX_ETHNICITY_PALESTINIAN', 'TERROR', 'ARMEDCONFLICT', 'WB_137_WATER', 'WB_988_LEVEES', 'WB_141_WATER_RESOURCES_MANAGEMENT', 'WB_1000_WATER_MANAGEMENT_STRUCTURES', 'MANMADE_DISASTER_IMPLIED', 'TAX_TERROR_GROUP', 'TAX_TERROR_GROUP_HAMAS', 'TAX_POLITICAL_PARTY', 'TAX_POLITICAL_PARTY_HAMAS', 'KIDNAP', 'CRISISLEX_CRISISLEXREC', 'EPU_CATS_NATIONAL_SECURITY', 'SELF_IDENTIFIED_HUMANITARIAN_CRISIS', 'TAX_ETHNICITY_PALESTINIANS', 'FOOD_SECURITY', 'TAX_DISEASE', 'TAX_DISEASE_STARVATION', 'WB_2433_CONFLICT_AND_VIOLENCE', 'WB_2432_FRAGILITY_CONFLICT_AND_VIOLENCE', 'WB_698_TRADE', 'KILL', 'CEASEFIRE', 'RELEASE_HOSTAGE', 'TAX_FNCACT', 'TAX_FNCACT_SPY', 'SOC_POINTSOFINTEREST', 'SOC_POINTSOFINTEREST_HEADQUARTERS', 'CRISISLEX_T03_DEAD', 'TAX_FNCACT_AMBASSADOR', 'PROTEST', 'WB_2448_MILITIA', 'WB_2445_NON_STATE_SECURITY_ACTORS', 'TAX_FNCACT_LEADER', 'TAX_ETHNICITY_HOUTHI', 'REBELS', 'WB_2451_REBELS_GUERRILLAS_AND_INSURGENTS', 'CRISISLEX_C07_SAFETY', 'UNGP_FORESTS_RIVERS_OCEANS', 'TAX_FNCACT_OFFICIAL', 'MILITARY', 'TAX_FNCACT_NAVY', 'TAX_WORLDMAMMALS', 'TAX_WORLDMAMMALS_SEALS', 'AFFECT', 'MARITIME_INCIDENT', 'MARITIME', 'SECURITY_SERVICES', 'WB_2468_CONVENTIONAL_WAR', 'WB_2462_POLITICAL_VIOLENCE_AND_WAR', 'PUBLIC_TRANSPORT', 'TAX_FNCACT_POLICE', 'TAX_FNCACT_WOMAN', 'WOUND', 'CRISISLEX_T02_INJURED', 'ARREST', 'SOC_GENERALCRIME', 'TAX_TERROR_GROUP_HEZBOLLAH', 'TAX_POLITICAL_PARTY_HEZBOLLAH', 'BORDER', 'TAX_FNCACT_DEPUTY', 'EPU_POLICY', 'EPU_POLICY_POLITICAL', 'LEADER', 'TAX_FNCACT_POLITICAL_LEADER', 'EVACUATION', 'CRISISLEX_T01_CAUTION_ADVICE', 'CRISISLEX_T09_DISPLACEDRELOCATEDEVACUATED', 'GENERAL_HEALTH', 'MEDICAL', 'SOC_POINTSOFINTEREST_HOSPITAL', 'CRISISLEX_C03_WELLBEING_HEALTH', 'URBAN', 'TAX_FNCACT_OFFICIALS', 'REFUGEES', 'EPU_CATS_MIGRATION_FEAR_MIGRATION', 'SOC_REFUGEECAMP', 'SOC_POINTSOFINTEREST_REFUGEE_CAMPS', 'WB_2665_REFUGEE_RESETTLEMENT', 'WB_2470_PEACE_OPERATIONS_AND_CONFLICT_MANAGEMENT', 'WB_2480_POST_CONFLICT_RECONSTRUCTION', 'WB_2488_POPULATION_RESETTLEMENT', 'MEDIA_MSM', 'CRISISLEX_T08_MISSINGFOUNDTRAPPEDPEOPLE', 'SOC_POINTSOFINTEREST_HOSPITALS', 'TAX_FNCACT_WOMEN', 'NATURAL_DISASTER', 'NATURAL_DISASTER_FAMINE', 'TAX_DISEASE_DISEASE', 'WB_1406_DISEASES', 'WB_621_HEALTH_NUTRITION_AND_POPULATION', 'UNGP_HEALTHCARE', 'AID_HUMANITARIAN', 'TAX_FNCACT_STAFFERS', 'TAX_FNCACT_WORKERS', 'TAX_MILITARY_TITLE', 'TAX_MILITARY_TITLE_SOLDIERS', 'TAX_FNCACT_SOLDIERS', 'TAX_FNCACT_WRITER', 'TAX_ETHNICITY_ARAB', '']\",\n",
       "  'text': 'After over 100 days of war, Palestinians fight in hard-hit areas of Gaza and fire rockets at Israel',\n",
       "  'DocumentIdentifier': 'https://www.newsday.com/news/nation/israel-hamas-war-news-01-16-2024-v85820'}}"
      ]
     },
     "execution_count": 32,
     "metadata": {},
     "output_type": "execute_result"
    }
   ],
   "source": [
    "data['hits']['hits'][1]['_source']"
   ]
  },
  {
   "cell_type": "markdown",
   "metadata": {},
   "source": [
    "## part 3"
   ]
  },
  {
   "cell_type": "code",
   "execution_count": null,
   "metadata": {},
   "outputs": [],
   "source": [
    "from datetime import datetime\n",
    "import requests,os,csv,logging\n",
    "from bs4 import BeautifulSoup\n",
    "from dotenv import load_dotenv\n",
    "from opensearchpy import OpenSearch\n",
    "load_dotenv()"
   ]
  },
  {
   "cell_type": "code",
   "execution_count": null,
   "metadata": {},
   "outputs": [],
   "source": [
    "def process_response(response):\n",
    "    hits = response[\"hits\"][\"hits\"]\n",
    "    output=[]\n",
    "    for iii,hit in enumerate(hits):\n",
    "\n",
    "        source = hit[\"_source\"]\n",
    "        text=[]\n",
    "        try:\n",
    "            date = datetime.strptime(source['metadata']['GDELT_DATE'], \"%Y%m%d%H%M%S\")\n",
    "            date = formatted_date = date.strftime(\"%d-%m-%Y\")\n",
    "            loc = source['metadata']['Locations']\n",
    "            loc = loc.replace(\"'\", '\"')  # json requires double quotes for keys and string values\n",
    "            try:\n",
    "                list_of_dicts = json.loads(loc)\n",
    "                location_full_names = [dict['Location FullName'] for dict in list_of_dicts if 'Location FullName' in dict]\n",
    "                loc = location_full_names[0]\n",
    "            except:\n",
    "                loc = None\n",
    "            org = source['metadata']['Organizations']\n",
    "            per = source['metadata']['Persons']\n",
    "            theme = source['metadata']['Themes'].rsplit('_')[-1]\n",
    "            title = source['metadata']['page_title']\n",
    "            url = source['metadata']['DocumentIdentifier']\n",
    "            output.append([date, loc, title, org, per, theme, url])\n",
    "            # pagination_id=response['_scroll_id']\n",
    "        \n",
    "        except:\n",
    "            # pagination_id=None\n",
    "            pass\n",
    "    return output\n",
    "    "
   ]
  },
  {
   "cell_type": "code",
   "execution_count": null,
   "metadata": {},
   "outputs": [],
   "source": [
    "response, client = get_massive_OS_data(args.n,args.t)"
   ]
  },
  {
   "cell_type": "code",
   "execution_count": null,
   "metadata": {},
   "outputs": [],
   "source": [
    "# response['hits']['hits']\n",
    "# response[\"_scroll_id\"]"
   ]
  },
  {
   "cell_type": "code",
   "execution_count": null,
   "metadata": {},
   "outputs": [],
   "source": [
    "articles=[]\n",
    "hits = response[\"hits\"][\"hits\"]\n",
    "while len(hits) != 0:\n",
    "    # try:\n",
    "    response = client.scroll(\n",
    "        scroll='5m',\n",
    "        scroll_id=pagination_id\n",
    "            )\n",
    "    hits = response[\"hits\"][\"hits\"]\n",
    "    article = process_response(response)\n",
    "    articles.append(article)\n",
    "    # except:\n",
    "    #     print(\"A ConnectionTimeout error occurred.\")\n",
    "    #     pass\n",
    "    "
   ]
  },
  {
   "cell_type": "code",
   "execution_count": null,
   "metadata": {},
   "outputs": [],
   "source": [
    "len(articles)"
   ]
  },
  {
   "cell_type": "code",
   "execution_count": null,
   "metadata": {},
   "outputs": [],
   "source": [
    "\n",
    "flattened_list = [item for sublist in articles for item in sublist]"
   ]
  },
  {
   "cell_type": "code",
   "execution_count": null,
   "metadata": {},
   "outputs": [],
   "source": [
    "len(flattened_list)"
   ]
  },
  {
   "cell_type": "code",
   "execution_count": null,
   "metadata": {},
   "outputs": [],
   "source": [
    "flattened_list"
   ]
  },
  {
   "cell_type": "markdown",
   "metadata": {},
   "source": [
    "## part 4"
   ]
  },
  {
   "cell_type": "code",
   "execution_count": 1,
   "metadata": {},
   "outputs": [],
   "source": [
    "# os.getcwd()\n",
    "# os.chdir('..')"
   ]
  },
  {
   "cell_type": "code",
   "execution_count": 5,
   "metadata": {},
   "outputs": [
    {
     "data": {
      "text/plain": [
       "'/Users/apple/WRK/dcolinmorgan/dots/dots'"
      ]
     },
     "execution_count": 5,
     "metadata": {},
     "output_type": "execute_result"
    }
   ],
   "source": [
    "import os\n",
    "import pandas as pd\n",
    "from datetime import datetime\n",
    "from tqdm import tqdm\n",
    "from scrape import get_OS_data, get_massive_OS_data,get_google_news\n",
    "from pull import process_hit, process_data,pull_data\n",
    "os.getcwd()\n",
    "# os.chdir(\"..\")"
   ]
  },
  {
   "cell_type": "code",
   "execution_count": 6,
   "metadata": {},
   "outputs": [],
   "source": [
    "def get_scroll_data():\n",
    "    response, client = get_massive_OS_data(1)\n",
    "    pagination_id = response[\"_scroll_id\"]\n",
    "    hits = response[\"hits\"][\"hits\"]\n",
    "    articles=[]\n",
    "    articles2=[]\n",
    "    while len(hits) != 0 and len(articles2) < 11000:\n",
    "        response = client.scroll(\n",
    "            scroll='1m',\n",
    "            scroll_id=pagination_id\n",
    "                )\n",
    "        hits = response[\"hits\"][\"hits\"]\n",
    "        # article = process_data(response)\n",
    "        articles.append(hits)\n",
    "        articles2 = [item for sublist in articles for item in sublist]\n",
    "    return [item for sublist in articles for item in sublist]"
   ]
  },
  {
   "cell_type": "code",
   "execution_count": null,
   "metadata": {},
   "outputs": [],
   "source": [
    "def extract_location(location_str):\n",
    "    if location_str:\n",
    "        try:\n",
    "            location_list = json.loads(location_str.replace(\"'\", '\"'))\n",
    "            return [dict['Location FullName'] for dict in location_list if 'Location FullName' in dict]\n",
    "        except json.JSONDecodeError:\n",
    "            return None\n",
    "    else:\n",
    "        return None\n",
    "\n",
    "def process_url(url):\n",
    "    response = requests.get(url)\n",
    "    soup = BeautifulSoup(response.text, 'html.parser')\n",
    "    paragraphs = soup.find_all(['p'])\n",
    "    text = []\n",
    "    for p in paragraphs:\n",
    "        text.append(p.get_text())\n",
    "    return text\n",
    "\n",
    "import json\n",
    "import concurrent.futures, requests\n",
    "from bs4 import BeautifulSoup"
   ]
  },
  {
   "cell_type": "code",
   "execution_count": null,
   "metadata": {},
   "outputs": [],
   "source": [
    "data = [list(d['_source']['metadata'].values()) for d in articles]\n",
    "df = pd.DataFrame(data, columns=['date','title', 'person', 'org', 'location', 'theme', 'text', 'url'])\n",
    "df.date=pd.to_datetime(df.date).dt.strftime('%d-%m-%Y')\n",
    "df['locc'] = df['location'].apply(extract_location)\n",
    "with concurrent.futures.ThreadPoolExecutor() as executor:\n",
    "    df['text'] = list(executor.map(process_url, df['url']))\n",
    "return df.values.tolist()"
   ]
  },
  {
   "cell_type": "code",
   "execution_count": null,
   "metadata": {},
   "outputs": [],
   "source": []
  },
  {
   "cell_type": "markdown",
   "metadata": {},
   "source": [
    "## part 5 google"
   ]
  },
  {
   "cell_type": "code",
   "execution_count": null,
   "metadata": {},
   "outputs": [],
   "source": [
    "from gnews import GNews\n",
    "from tqdm import tqdm\n",
    "from scrape import get_OS_data, get_massive_OS_data,get_google_news\n",
    "from pull import process_hit, process_data, process_response\n",
    "from feat import featurize_stories\n",
    "google_news = GNews()\n",
    "\n",
    "# google_news.period = '7d'  # News from last 7 days\n",
    "google_news.max_results = 10000  # number of responses across a keyword\n",
    "google_news.country = 'United States'  # News from a specific country \n",
    "google_news.language = 'english'  # News in a specific language\n",
    "google_news.exclude_websites = ['yahoo.com', 'cnn.com']  # Exclude news from specific website i.e Yahoo.com and CNN.com\n",
    "google_news.start_date = (2024, 1, 1) # Search from 1st Jan 2020\n",
    "google_news.end_date = (2024, 3, 1) # Search until 1st March 2020\n",
    "\n"
   ]
  },
  {
   "cell_type": "code",
   "execution_count": null,
   "metadata": {},
   "outputs": [],
   "source": [
    "json_resp = google_news.get_news('fire')\n",
    "article=[]\n",
    "\n",
    "for i in tqdm(range(len(json_resp)), desc=\"grabbing directly from GoogleNews\"):\n",
    "    aa=(google_news.get_full_article(json_resp[i]['url']))\n",
    "    try:\n",
    "        date=aa.publish_date.strftime(\"%d-%m-%Y\")\n",
    "    except:\n",
    "        date=None\n",
    "    try:\n",
    "        title=aa.title\n",
    "        text=aa.text\n",
    "    except:\n",
    "        title=None\n",
    "        text=None\n",
    "    article.append([title,date,text])\n",
    "\n",
    "# return article"
   ]
  },
  {
   "cell_type": "code",
   "execution_count": null,
   "metadata": {},
   "outputs": [],
   "source": [
    "len(article)"
   ]
  },
  {
   "cell_type": "code",
   "execution_count": null,
   "metadata": {},
   "outputs": [],
   "source": [
    "# farticles = [item for sublist in article for item in sublist]\n",
    "rank_articles=[]\n",
    "for i in tqdm(article, desc=\"featurizing articles\"):\n",
    "    foreparts=str(i).split(',')[:2]  # location and date\n",
    "    meat=\"\".join(str(i).split(',')[2:-3])  # article text\n",
    "    cc=featurize_stories(str(i), top_k = 3, max_len=512)\n",
    "    rank_articles.append([foreparts,cc])"
   ]
  },
  {
   "cell_type": "code",
   "execution_count": null,
   "metadata": {},
   "outputs": [],
   "source": []
  }
 ],
 "metadata": {
  "kernelspec": {
   "display_name": "mypy3",
   "language": "python",
   "name": "python3"
  },
  "language_info": {
   "codemirror_mode": {
    "name": "ipython",
    "version": 3
   },
   "file_extension": ".py",
   "mimetype": "text/x-python",
   "name": "python",
   "nbconvert_exporter": "python",
   "pygments_lexer": "ipython3",
   "version": "3.12.2"
  }
 },
 "nbformat": 4,
 "nbformat_minor": 2
}
